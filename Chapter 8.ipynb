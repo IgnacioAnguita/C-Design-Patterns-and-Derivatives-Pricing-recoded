{
 "cells": [
  {
   "cell_type": "markdown",
   "metadata": {},
   "source": [
    "# Chapter 8 Trees"
   ]
  },
  {
   "cell_type": "markdown",
   "metadata": {},
   "source": [
    "A popular method to price derivatives is to use trees. Each node in a tree is splitted in different outcomes, so every time the tree advances (creating new nodes) new situations are generated from the previous node.\n",
    "\n",
    "Imagine a binary tree in a Brownian motion. Every time the node is splitted there is the situation where the Spot increases and anoter situation where the stock decreases (with a variation according to the time lapse between nodes and the volatility).\n",
    "\n",
    "Here the basics of the trees will be presented."
   ]
  },
  {
   "cell_type": "markdown",
   "metadata": {},
   "source": [
    "### The TreeProduct class"
   ]
  },
  {
   "cell_type": "markdown",
   "metadata": {},
   "source": [
    "We start with the base class."
   ]
  },
  {
   "cell_type": "code",
   "execution_count": 12,
   "metadata": {},
   "outputs": [],
   "source": [
    "from math import exp, sqrt, log\n",
    "import numpy as np"
   ]
  },
  {
   "cell_type": "code",
   "execution_count": 2,
   "metadata": {},
   "outputs": [],
   "source": [
    "class TreeProduct:\n",
    "    def __init__(self, FinalTime_):\n",
    "        self._FinalTime = FinalTime_\n",
    "        \n",
    "    def FinalPayOff(self,Spot):\n",
    "        pass\n",
    "    \n",
    "    def PreFinalValue(self, Spot, Time, DiscountedFutureValue):\n",
    "        pass\n",
    "    \n",
    "    def __del__(self):\n",
    "        del self\n",
    "        \n",
    "    def clone(self):\n",
    "        from copy import deepcopy\n",
    "        return deepcopy(self)\n",
    "    \n",
    "    def GetFinalTime(self):\n",
    "        return self._FinalTime         "
   ]
  },
  {
   "cell_type": "markdown",
   "metadata": {},
   "source": [
    "### Inhereted classes"
   ]
  },
  {
   "cell_type": "markdown",
   "metadata": {},
   "source": [
    "Each class works for a different type of option (american and european)."
   ]
  },
  {
   "cell_type": "code",
   "execution_count": 140,
   "metadata": {},
   "outputs": [],
   "source": [
    "class TreeAmerican(TreeProduct):\n",
    "    def __init__(self,FinalTime_, ThePayOff_):\n",
    "        super().__init__(FinalTime_)\n",
    "        self.__ThePayOff = ThePayOff_\n",
    "        \n",
    "    def FinalPayOff(self, Spot):\n",
    "        return self.__ThePayOff(Spot)\n",
    "    \n",
    "    def PreFinalValue(self, Spot, ThisTime, DiscountedFutureValue):\n",
    "        return max(self.__ThePayOff(Spot), DiscountedFutureValue)        "
   ]
  },
  {
   "cell_type": "code",
   "execution_count": 139,
   "metadata": {},
   "outputs": [],
   "source": [
    "class TreeEuropean(TreeProduct):\n",
    "    def __init__(self,FinalTime_, ThePayOff_):\n",
    "        super().__init__(FinalTime_)\n",
    "        self.__ThePayOff = ThePayOff_\n",
    "        \n",
    "    def FinalPayOff(self, Spot):\n",
    "        return self.__ThePayOff(Spot)\n",
    "    \n",
    "    def PreFinalValue(self, Spot, ThisTime, DiscountedFutureValue):\n",
    "        return DiscountedFutureValue"
   ]
  },
  {
   "cell_type": "markdown",
   "metadata": {},
   "source": [
    "### The binomial tree class"
   ]
  },
  {
   "cell_type": "markdown",
   "metadata": {},
   "source": [
    "The book uses the class pair to store the values of the spots and the option values. In python we can do the following."
   ]
  },
  {
   "cell_type": "code",
   "execution_count": 6,
   "metadata": {},
   "outputs": [],
   "source": [
    "class pair:\n",
    "    def __init__(self):\n",
    "        self.first = 0\n",
    "        self.second = 0"
   ]
  },
  {
   "cell_type": "markdown",
   "metadata": {},
   "source": [
    "Or better"
   ]
  },
  {
   "cell_type": "code",
   "execution_count": 80,
   "metadata": {},
   "outputs": [],
   "source": [
    "from dataclasses import dataclass\n",
    "@dataclass\n",
    "class pair:\n",
    "    first: float\n",
    "    second: float"
   ]
  },
  {
   "cell_type": "markdown",
   "metadata": {},
   "source": [
    "Now we will create the class that compues everything in the creation of the tree."
   ]
  },
  {
   "cell_type": "code",
   "execution_count": 143,
   "metadata": {},
   "outputs": [],
   "source": [
    "class SimpleBinomialTree:\n",
    "    def __init__(self, Spot_, r_, d_, Volatility_, Steps, Time):\n",
    "        self.__Spot = Spot_\n",
    "        self.__r = r_\n",
    "        self.__d = d_\n",
    "        self.__Volatility = Volatility_\n",
    "        self.__Steps = Steps\n",
    "        self.__Time = Time\n",
    "        self.__TreeBuilt = False\n",
    "        self.__TheTree = []\n",
    "        self.__Discounts = [0 for i in range(self.__Steps)]\n",
    "    \n",
    "    \n",
    "    def __BuildTree(self):\n",
    "        self.__TreeBuilt = True\n",
    "        self.__TheTree = [[] for i in range(self.__Steps+1)]\n",
    "        \n",
    "        InitialLogSpot = log(Spot)\n",
    "        \n",
    "        for i in range(self.__Steps+1):\n",
    "            self.__TheTree[i] = [pair(0,0) for i in range(i+1)]\n",
    "            thisTime = i*self.__Time/self.__Steps\n",
    "            \n",
    "            movedLogSpot = InitialLogSpot + self.__r.Integral(0, thisTime) - self.__d.Integral(0, thisTime)\n",
    "            \n",
    "            movedLogSpot -= 0.5*self.__Volatility*self.__Volatility*thisTime\n",
    "            \n",
    "            sd = self.__Volatility*sqrt(self.__Time/self.__Steps)\n",
    "                        \n",
    "            k = 0\n",
    "            for j in range(-i,i+2,2):\n",
    "                self.__TheTree[i][k].first = exp(movedLogSpot + j*sd)\n",
    "                \n",
    "                k+=1\n",
    "            \n",
    "            for l in range(self.__Steps):\n",
    "                self.__Discounts[l] = exp(-self.__r.Integral(l*self.__Time/self.__Steps,(l+1)*self.__Time/self.__Steps))\n",
    "    \n",
    "    def GetThePrice(self, TheProduct):\n",
    "        if (not self.__TreeBuilt):\n",
    "            self.__BuildTree()\n",
    "            \n",
    "        if (TheProduct.GetFinalTime() != self.__Time):\n",
    "            raise ValueError('Mismatched product in SimpleBinomialTree')\n",
    "            \n",
    "        k = 0\n",
    "        for j in range(-self.__Steps,self.__Steps+2,2):\n",
    "            \n",
    "            self.__TheTree[self.__Steps][k].second = TheProduct.FinalPayOff(\n",
    "                self.__TheTree[self.__Steps][k].first)\n",
    "            k+=1\n",
    "            \n",
    "        for i in range(1,self.__Steps+1,1):\n",
    "            index = self.__Steps - i\n",
    "            ThisTime = index*self.__Time / self.__Steps\n",
    "            \n",
    "            k = 0\n",
    "            for j in range(-index,index+2,2):\n",
    "                Spot = self.__TheTree[index][k].first\n",
    "                futureDiscountedValue = 0.5*self.__Discounts[index]*(self.__TheTree[index+1][k].second + \n",
    "                                                              self.__TheTree[index+1][k+1].second)\n",
    "            \n",
    "                self.__TheTree[index][k].second = TheProduct.PreFinalValue(Spot, ThisTime, futureDiscountedValue)\n",
    "                k+=1\n",
    "            \n",
    "        return self.__TheTree[0][0].second\n"
   ]
  },
  {
   "cell_type": "markdown",
   "metadata": {},
   "source": [
    "Let's put it all together."
   ]
  },
  {
   "cell_type": "code",
   "execution_count": 16,
   "metadata": {},
   "outputs": [],
   "source": [
    "class PayOff():\n",
    "    def __init__(self):\n",
    "        pass\n",
    "    \n",
    "    def __call__(self,Spot):\n",
    "        pass    \n",
    "\n",
    "class PayOffBridge():        \n",
    "    def __del__(self):\n",
    "        del self\n",
    "        \n",
    "    def copy(self,InnerPayOff):\n",
    "        from copy import deepcopy\n",
    "        self = deepcopy(InnerPayOff)\n",
    "        \n",
    "class PayOffCall(PayOff,PayOffBridge):\n",
    "    def __init__(self,Strike_):\n",
    "        self.__Strike = Strike_\n",
    "        \n",
    "    def __call__(self,Spot):\n",
    "        return max(Spot - self.__Strike,0)    "
   ]
  },
  {
   "cell_type": "code",
   "execution_count": 17,
   "metadata": {},
   "outputs": [],
   "source": [
    "class ParametersInner:\n",
    "    def __init__(self):\n",
    "        pass\n",
    "    \n",
    "    def Integral(self,time1, time2):\n",
    "        pass\n",
    "    \n",
    "    def IntegralSquare(self,time1,time2):\n",
    "        pass\n",
    "\n",
    "class Parameters:    \n",
    "    def RootMeanSquare(self,time1,time2):\n",
    "        total = self.Integral(time1,time2)\n",
    "        return total/(time2-time1)\n",
    "    \n",
    "    def Mean(self,time1, time2):\n",
    "        total = self.Integral(time1,time2)\n",
    "        return total/(time2-time1)\n",
    "    \n",
    "    def copy(self,original):\n",
    "        from copy import deepcopy\n",
    "        self = deepcopy(InnerPayOff) \n",
    "        \n",
    "    def __del__(self):\n",
    "        del self    \n",
    "        \n",
    "class ParametersConstant(ParametersInner,Parameters):\n",
    "    def __init__(self,constant):\n",
    "        self.__Constant = constant\n",
    "        self.__ConstantSquare = self.__Constant*self.__Constant\n",
    "    \n",
    "    def Integral(self, time1, time2):\n",
    "        return (time2 - time1)*self.__Constant\n",
    "    \n",
    "    def IntegralSquare(self, time1, time2):\n",
    "        return (time2 - time1)*self.__ConstantSquare   "
   ]
  },
  {
   "cell_type": "markdown",
   "metadata": {},
   "source": [
    "We will use the same example we always use to price calls."
   ]
  },
  {
   "cell_type": "code",
   "execution_count": 162,
   "metadata": {},
   "outputs": [],
   "source": [
    "Expiry = 0.5\n",
    "Strike = 40\n",
    "Spot = 42\n",
    "Vol = 0.2\n",
    "r = 0.1\n",
    "d = 0\n",
    "Steps = 4000"
   ]
  },
  {
   "cell_type": "code",
   "execution_count": 163,
   "metadata": {},
   "outputs": [
    {
     "name": "stdout",
     "output_type": "stream",
     "text": [
      "Euro price 4.759410413326544, American price 4.759410413326544\n"
     ]
    }
   ],
   "source": [
    "thePayOff = PayOffCall(Strike)\n",
    "rParam = ParametersConstant(r)\n",
    "dParam = ParametersConstant(d)\n",
    "\n",
    "europeanOption = TreeEuropean(Expiry, thePayOff)\n",
    "americanOption = TreeAmerican(Expiry, thePayOff)\n",
    "\n",
    "theTree = SimpleBinomialTree(Spot, rParam, dParam, Vol, Steps, Expiry)\n",
    "\n",
    "europrice = theTree.GetThePrice(europeanOption)\n",
    "americanprice = theTree.GetThePrice(americanOption)\n",
    "\n",
    "print(f'Euro price {europrice}, American price {americanprice}')"
   ]
  },
  {
   "cell_type": "markdown",
   "metadata": {},
   "source": [
    "The prices are close to the correct solution. Now we will try adding the dividend effect."
   ]
  },
  {
   "cell_type": "code",
   "execution_count": 191,
   "metadata": {},
   "outputs": [],
   "source": [
    "Expiry = 0.5\n",
    "Strike = 40\n",
    "Spot = 42\n",
    "Vol = 0.2\n",
    "r = 0.1\n",
    "d = 0.1\n",
    "Steps = 1000"
   ]
  },
  {
   "cell_type": "code",
   "execution_count": 165,
   "metadata": {},
   "outputs": [
    {
     "name": "stdout",
     "output_type": "stream",
     "text": [
      "Euro price 3.2794621977688543, American price 3.3272641439441206\n"
     ]
    }
   ],
   "source": [
    "thePayOff = PayOffCall(Strike)\n",
    "rParam = ParametersConstant(r)\n",
    "dParam = ParametersConstant(d)\n",
    "\n",
    "europeanOption = TreeEuropean(Expiry, thePayOff)\n",
    "americanOption = TreeAmerican(Expiry, thePayOff)\n",
    "\n",
    "theTree = SimpleBinomialTree(Spot, rParam, dParam, Vol, Steps, Expiry)\n",
    "\n",
    "europrice = theTree.GetThePrice(europeanOption)\n",
    "americanprice = theTree.GetThePrice(americanOption)\n",
    "\n",
    "print(f'Euro price {europrice}, American price {americanprice}')"
   ]
  },
  {
   "cell_type": "markdown",
   "metadata": {},
   "source": [
    "### Forwards"
   ]
  },
  {
   "cell_type": "markdown",
   "metadata": {},
   "source": [
    "The book also adds the forwards to illustrate their behaviour and compare it to the other options."
   ]
  },
  {
   "cell_type": "code",
   "execution_count": 187,
   "metadata": {},
   "outputs": [],
   "source": [
    "class PayOffForward(PayOff,PayOffBridge):\n",
    "    def __init__(self, Strike):\n",
    "        self.__Strike = Strike\n",
    "        \n",
    "    def __call__(self, Spot):\n",
    "        return Spot - Strike"
   ]
  },
  {
   "cell_type": "code",
   "execution_count": 193,
   "metadata": {},
   "outputs": [],
   "source": [
    "Expiry = 0.5\n",
    "Strike = 40\n",
    "Spot = 42\n",
    "Vol = 0.2\n",
    "r = 0.1\n",
    "d = 0.1\n",
    "Steps = 1000"
   ]
  },
  {
   "cell_type": "code",
   "execution_count": 194,
   "metadata": {},
   "outputs": [],
   "source": [
    "rParam = ParametersConstant(r)\n",
    "dParam = ParametersConstant(d)"
   ]
  },
  {
   "cell_type": "code",
   "execution_count": 197,
   "metadata": {},
   "outputs": [
    {
     "name": "stdout",
     "output_type": "stream",
     "text": [
      "Binomial Forward price 1.9024575172872937, Actual Forward price 1.902458849001428\n",
      "Error 6.999962890127958e-05\n"
     ]
    }
   ],
   "source": [
    "forwardPayOff = PayOffForward(Strike)\n",
    "forward = TreeEuropean(Expiry, forwardPayOff)\n",
    "\n",
    "theTree = SimpleBinomialTree(Spot, rParam, dParam, Vol, Steps, Expiry)\n",
    "\n",
    "forwardPrice = theTree.GetThePrice(forward)\n",
    "actualForwardPrice = exp(-r*Expiry)*(Spot*exp((r-d)*Expiry)-Strike)\n",
    "\n",
    "print(f'Binomial Forward price {forwardPrice}, Actual Forward price {actualForwardPrice}')\n",
    "print(f'Error {100*(actualForwardPrice - forwardPrice) /actualForwardPrice}')"
   ]
  },
  {
   "cell_type": "markdown",
   "metadata": {},
   "source": [
    "So we can see that the price is very very close to the real one."
   ]
  },
  {
   "cell_type": "markdown",
   "metadata": {},
   "source": [
    "### Exercises"
   ]
  },
  {
   "cell_type": "markdown",
   "metadata": {},
   "source": [
    "**Exercise 8.1** Find a class that does barrier options in the same TreeProduct class hierarchy. Try it out. How stable is the price? How might you improve stability?"
   ]
  },
  {
   "cell_type": "code",
   "execution_count": null,
   "metadata": {},
   "outputs": [],
   "source": []
  },
  {
   "cell_type": "markdown",
   "metadata": {},
   "source": [
    "**Exercise 8.2**"
   ]
  },
  {
   "cell_type": "code",
   "execution_count": null,
   "metadata": {},
   "outputs": [],
   "source": []
  },
  {
   "cell_type": "code",
   "execution_count": null,
   "metadata": {},
   "outputs": [],
   "source": []
  }
 ],
 "metadata": {
  "kernelspec": {
   "display_name": "Python 3",
   "language": "python",
   "name": "python3"
  },
  "language_info": {
   "codemirror_mode": {
    "name": "ipython",
    "version": 3
   },
   "file_extension": ".py",
   "mimetype": "text/x-python",
   "name": "python",
   "nbconvert_exporter": "python",
   "pygments_lexer": "ipython3",
   "version": "3.7.1"
  }
 },
 "nbformat": 4,
 "nbformat_minor": 2
}
