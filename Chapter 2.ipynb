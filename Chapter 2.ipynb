{
 "cells": [
  {
   "cell_type": "markdown",
   "metadata": {},
   "source": [
    "# Chapter 2"
   ]
  },
  {
   "cell_type": "markdown",
   "metadata": {},
   "source": [
    "In this chapter we will start witht the basic concepts of Object Oriented Programming for the Options."
   ]
  },
  {
   "cell_type": "markdown",
   "metadata": {},
   "source": [
    "## Implementing the pay-off class\n",
    "\n",
    "We create a class that depending on the Option type, the Strike price and the \"Spot\" (stock price in the future), calculates the pay off."
   ]
  },
  {
   "cell_type": "code",
   "execution_count": 38,
   "metadata": {},
   "outputs": [],
   "source": [
    "class PayOff():\n",
    "    def __init__(self,TheOptionsType_,Strike_):\n",
    "        # The constructor\n",
    "        self.__TheOptionsType = TheOptionsType_\n",
    "        self.__Strike = Strike_\n",
    "        \n",
    "    def __call__(self,spot):\n",
    "        # Overloading the ( ) operator\n",
    "        if self.__TheOptionsType == 'call':\n",
    "            return max(spot - self.__Strike,0)\n",
    "        elif self.__TheOptionsType == 'put':\n",
    "            return max(self.__Strike - spot,0)\n",
    "        else:\n",
    "            raise Exception('Unknown option type found.')\n",
    "        "
   ]
  },
  {
   "cell_type": "markdown",
   "metadata": {},
   "source": [
    "Time to test it!"
   ]
  },
  {
   "cell_type": "code",
   "execution_count": 21,
   "metadata": {},
   "outputs": [
    {
     "name": "stdout",
     "output_type": "stream",
     "text": [
      "Call price: 20\n"
     ]
    }
   ],
   "source": [
    "call = PayOff('call',80)\n",
    "callPrice  = call(100)\n",
    "print(f'Call price: {callPrice}')"
   ]
  },
  {
   "cell_type": "code",
   "execution_count": 22,
   "metadata": {},
   "outputs": [
    {
     "name": "stdout",
     "output_type": "stream",
     "text": [
      "Put price: 0\n"
     ]
    }
   ],
   "source": [
    "put = PayOff('put',80)\n",
    "putPrice  = put(100)\n",
    "print(f'Put price: {putPrice}')"
   ]
  },
  {
   "cell_type": "code",
   "execution_count": 23,
   "metadata": {},
   "outputs": [
    {
     "ename": "Exception",
     "evalue": "Unknown option type found.",
     "output_type": "error",
     "traceback": [
      "\u001b[1;31m---------------------------------------------------------------------------\u001b[0m",
      "\u001b[1;31mException\u001b[0m                                 Traceback (most recent call last)",
      "\u001b[1;32m<ipython-input-23-6323abcf820c>\u001b[0m in \u001b[0;36m<module>\u001b[1;34m\u001b[0m\n\u001b[0;32m      1\u001b[0m \u001b[0merr\u001b[0m \u001b[1;33m=\u001b[0m \u001b[0mPayOff\u001b[0m\u001b[1;33m(\u001b[0m\u001b[1;34m'err'\u001b[0m\u001b[1;33m,\u001b[0m\u001b[1;36m80\u001b[0m\u001b[1;33m)\u001b[0m\u001b[1;33m\u001b[0m\u001b[1;33m\u001b[0m\u001b[0m\n\u001b[1;32m----> 2\u001b[1;33m \u001b[0merrPrice\u001b[0m  \u001b[1;33m=\u001b[0m \u001b[0merr\u001b[0m\u001b[1;33m(\u001b[0m\u001b[1;36m100\u001b[0m\u001b[1;33m)\u001b[0m\u001b[1;33m\u001b[0m\u001b[1;33m\u001b[0m\u001b[0m\n\u001b[0m\u001b[0;32m      3\u001b[0m \u001b[0mprint\u001b[0m\u001b[1;33m(\u001b[0m\u001b[1;34mf'Err price: {errPrice}'\u001b[0m\u001b[1;33m)\u001b[0m\u001b[1;33m\u001b[0m\u001b[1;33m\u001b[0m\u001b[0m\n",
      "\u001b[1;32m<ipython-input-17-7075add218b8>\u001b[0m in \u001b[0;36m__call__\u001b[1;34m(self, spot)\u001b[0m\n\u001b[0;32m     12\u001b[0m             \u001b[1;32mreturn\u001b[0m \u001b[0mmax\u001b[0m\u001b[1;33m(\u001b[0m\u001b[0mself\u001b[0m\u001b[1;33m.\u001b[0m\u001b[0m__Strike\u001b[0m \u001b[1;33m-\u001b[0m \u001b[0mspot\u001b[0m\u001b[1;33m,\u001b[0m\u001b[1;36m0\u001b[0m\u001b[1;33m)\u001b[0m\u001b[1;33m\u001b[0m\u001b[1;33m\u001b[0m\u001b[0m\n\u001b[0;32m     13\u001b[0m         \u001b[1;32melse\u001b[0m\u001b[1;33m:\u001b[0m\u001b[1;33m\u001b[0m\u001b[1;33m\u001b[0m\u001b[0m\n\u001b[1;32m---> 14\u001b[1;33m             \u001b[1;32mraise\u001b[0m \u001b[0mException\u001b[0m\u001b[1;33m(\u001b[0m\u001b[1;34m'Unknown option type found.'\u001b[0m\u001b[1;33m)\u001b[0m\u001b[1;33m\u001b[0m\u001b[1;33m\u001b[0m\u001b[0m\n\u001b[0m\u001b[0;32m     15\u001b[0m \u001b[1;33m\u001b[0m\u001b[0m\n",
      "\u001b[1;31mException\u001b[0m: Unknown option type found."
     ]
    }
   ],
   "source": [
    "err = PayOff('err',80)\n",
    "errPrice  = err(100)\n",
    "print(f'Err price: {errPrice}')"
   ]
  },
  {
   "cell_type": "markdown",
   "metadata": {},
   "source": [
    "The class is behaving exactly as we wanted."
   ]
  },
  {
   "cell_type": "markdown",
   "metadata": {},
   "source": [
    "## Using the pay-off class\n",
    "\n",
    "Now we will play with that class inside the code of the chapter 1 with the monte carlo routine"
   ]
  },
  {
   "cell_type": "code",
   "execution_count": 34,
   "metadata": {},
   "outputs": [],
   "source": [
    "from random import random\n",
    "from math import exp, sqrt, log"
   ]
  },
  {
   "cell_type": "code",
   "execution_count": 50,
   "metadata": {},
   "outputs": [],
   "source": [
    "def SimpleMonteCarlo2(thePayOff,\n",
    "                     Expiry,\n",
    "                     Spot,\n",
    "                     Vol,\n",
    "                     r,\n",
    "                     NumberOfPaths):\n",
    "    \n",
    "    variance = Vol*Vol*Expiry\n",
    "    rootVariance = sqrt(variance)\n",
    "    itoCorrection = -0.5*variance\n",
    "    \n",
    "    movedSpot = Spot*exp(r*Expiry + itoCorrection)\n",
    "    runningSum = 0\n",
    "    for i in range(NumberOfPaths):\n",
    "        thisGaussian = GetOneGaussianByBoxMuller()\n",
    "        thisSpot = movedSpot*exp(rootVariance*thisGaussian)\n",
    "        thisPayoff = thePayOff(thisSpot)\n",
    "        runningSum += thisPayoff\n",
    "    \n",
    "    mean = runningSum / NumberOfPaths\n",
    "    mean *= exp(-r*Expiry)\n",
    "    return mean      "
   ]
  },
  {
   "cell_type": "code",
   "execution_count": 27,
   "metadata": {},
   "outputs": [],
   "source": [
    "def GetOneGaussianBySummation():\n",
    "    result = 0\n",
    "    for j in range(12):\n",
    "        result += random()\n",
    "    result -= 6\n",
    "    return result\n",
    "\n",
    "def GetOneGaussianByBoxMuller():\n",
    "    sizeSquared = 1\n",
    "    while sizeSquared >= 1:\n",
    "        x = 2*random() - 1\n",
    "        y = 2*random() - 1\n",
    "        sizeSquared = x*x + y*y\n",
    "    \n",
    "    result = x*sqrt(-2*log(sizeSquared)/sizeSquared)\n",
    "    return result"
   ]
  },
  {
   "cell_type": "code",
   "execution_count": 51,
   "metadata": {},
   "outputs": [
    {
     "name": "stdout",
     "output_type": "stream",
     "text": [
      "Call price: 4.82, for 10000 paths\n"
     ]
    }
   ],
   "source": [
    "callPayOff = PayOff('call',40)\n",
    "callPrice = SimpleMonteCarlo2(callPayOff,0.5,42,0.2,0.1,10000)\n",
    "print(f'Call price: {round(callPrice,2)}, for 10000 paths')"
   ]
  },
  {
   "cell_type": "markdown",
   "metadata": {},
   "source": [
    "Which it was what we were getting before in Chapter 1."
   ]
  },
  {
   "cell_type": "markdown",
   "metadata": {},
   "source": [
    "### Extensibility problems"
   ]
  },
  {
   "cell_type": "markdown",
   "metadata": {},
   "source": [
    "Now if we want to add new features we do not have to touch our Monte Carlo pricer, however we still have to touch part of the code in the class, in the next chapter we will use the concept of inheretance to avoid doing so."
   ]
  },
  {
   "cell_type": "markdown",
   "metadata": {},
   "source": [
    "### Exercises"
   ]
  },
  {
   "cell_type": "markdown",
   "metadata": {},
   "source": [
    "**Exercise 2.1** Modify the pay-off class so that it can handle digital options"
   ]
  },
  {
   "cell_type": "markdown",
   "metadata": {},
   "source": [
    "Digial options return a 0 or a 1 instead of the difference between the strike price and the price. \n",
    "\n",
    "So as example, let's take a call option. In maturity if the underlying asset price is 40 and the strike 38 the price of the option will be 2, if the strike price is 42, the price of the option will be 0.\n",
    "\n",
    "In the case of a digital option, in the first case it would return 0, whereas in the second it will return 0."
   ]
  },
  {
   "cell_type": "code",
   "execution_count": 75,
   "metadata": {},
   "outputs": [],
   "source": [
    "class PayOff():\n",
    "    def __init__(self,TheOptionsType_,Strike_):\n",
    "        # The constructor\n",
    "        self.__TheOptionsType = TheOptionsType_\n",
    "        self.__Strike = Strike_\n",
    "        \n",
    "    def __call__(self,spot):\n",
    "        # Overloading the ( ) operator\n",
    "        if self.__TheOptionsType == 'call':\n",
    "            return max(spot - self.__Strike,0)\n",
    "        elif self.__TheOptionsType == 'put':\n",
    "            return max(self.__Strike - spot,0)\n",
    "        elif self.__TheOptionsType == 'digital call':\n",
    "            if spot >= self.__Strike:\n",
    "                return 1\n",
    "            else:\n",
    "                return 0\n",
    "        elif self.__TheOptionsType == 'digital put':\n",
    "            if spot <= self.__Strike:\n",
    "                return 1\n",
    "            else:\n",
    "                return 0\n",
    "        else:\n",
    "            raise Exception('Unknown option type found.')"
   ]
  },
  {
   "cell_type": "markdown",
   "metadata": {},
   "source": [
    "We will use the example in the following page to test our results: https://www.quantstart.com/articles/Digital-option-pricing-with-C-via-Monte-Carlo-methods\n",
    "\n",
    "With the following data and results:\n",
    "* Number of Paths: 10000000\n",
    "* Underlying:      100\n",
    "* Strike:          100\n",
    "* Risk-Free Rate:  0.05\n",
    "* Volatility:      0.2\n",
    "* Maturity:        1\n",
    "* Call Price:      0.532424\n",
    "* Put Price:       0.418726 \n",
    "    "
   ]
  },
  {
   "cell_type": "code",
   "execution_count": 76,
   "metadata": {},
   "outputs": [
    {
     "name": "stdout",
     "output_type": "stream",
     "text": [
      "Digital Call price: 0.5321, for 10000000 paths\n"
     ]
    }
   ],
   "source": [
    "callPayOff = PayOff('digital call',100)\n",
    "callPrice = SimpleMonteCarlo2(callPayOff,1,100,0.2,0.05,10000000)\n",
    "print(f'Digital Call price: {round(callPrice,4)}, for 10000000 paths')"
   ]
  },
  {
   "cell_type": "code",
   "execution_count": 77,
   "metadata": {},
   "outputs": [
    {
     "name": "stdout",
     "output_type": "stream",
     "text": [
      "Digital Call price: 0.4191, for 10000000 paths\n"
     ]
    }
   ],
   "source": [
    "putPayOff = PayOff('digital put',100)\n",
    "putPrice = SimpleMonteCarlo2(putPayOff,1,100,0.2,0.05,10000000)\n",
    "print(f'Digital Call price: {round(putPrice,4)}, for 10000000 paths')"
   ]
  },
  {
   "cell_type": "markdown",
   "metadata": {},
   "source": [
    "Our result is quite close so we will assume it is correct."
   ]
  },
  {
   "cell_type": "markdown",
   "metadata": {},
   "source": [
    "**Exercise 2.2** Modify the pay-off class so that it can handle double digital options"
   ]
  },
  {
   "cell_type": "markdown",
   "metadata": {},
   "source": [
    "The double digital options and its mechanics are described in the exercise 1.2, so here only the implementation will be showed. We will assume that Strike_ now it is a list with all the different strike prices, we can have 1 price if it is a vanilla option or 2 if it is a double digital."
   ]
  },
  {
   "cell_type": "code",
   "execution_count": 73,
   "metadata": {},
   "outputs": [],
   "source": [
    "class PayOff():\n",
    "    def __init__(self,TheOptionsType_,Strike_):\n",
    "        # The constructor\n",
    "        self.__TheOptionsType = TheOptionsType_\n",
    "        self.__Strike = Strike_\n",
    "        \n",
    "    def __call__(self,spot):\n",
    "        # Overloading the ( ) operator\n",
    "        if self.__TheOptionsType == 'call':\n",
    "            return max(spot - self.__Strike[0],0)\n",
    "        elif self.__TheOptionsType == 'put':\n",
    "            return max(self.__Strike - spot[0],0)\n",
    "        elif self.__TheOptionsType == 'double digital':\n",
    "            if spot <= max(self.__Strike) and spot >= min(self.__Strike):\n",
    "                return 1\n",
    "            else:\n",
    "                return 0           \n",
    "        else:\n",
    "            raise Exception('Unknown option type found.')"
   ]
  },
  {
   "cell_type": "code",
   "execution_count": 74,
   "metadata": {},
   "outputs": [
    {
     "name": "stdout",
     "output_type": "stream",
     "text": [
      "Double digital option: 0.3196, for 1000000 paths\n"
     ]
    }
   ],
   "source": [
    "DoubleDigitalPayOff = PayOff('double digital',[120,100])\n",
    "DoubleDigitalPrice = SimpleMonteCarlo2(DoubleDigitalPayOff,1,100,0.2,0.05,1000000)\n",
    "print(f'Double digital option: {round(DoubleDigitalPrice,4)}, for 1000000 paths')"
   ]
  },
  {
   "cell_type": "markdown",
   "metadata": {},
   "source": [
    "Which is close to the price we were expecting."
   ]
  },
  {
   "cell_type": "markdown",
   "metadata": {},
   "source": [
    "The exercise 2.3 will not be solved since python is different than C++, and some parts not working equally, so solving that exercise it has no interest."
   ]
  }
 ],
 "metadata": {
  "kernelspec": {
   "display_name": "Python 3",
   "language": "python",
   "name": "python3"
  },
  "language_info": {
   "codemirror_mode": {
    "name": "ipython",
    "version": 3
   },
   "file_extension": ".py",
   "mimetype": "text/x-python",
   "name": "python",
   "nbconvert_exporter": "python",
   "pygments_lexer": "ipython3",
   "version": "3.7.1"
  }
 },
 "nbformat": 4,
 "nbformat_minor": 2
}
