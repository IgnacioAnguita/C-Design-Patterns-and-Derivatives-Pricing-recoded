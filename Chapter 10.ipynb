{
 "cells": [
  {
   "cell_type": "markdown",
   "metadata": {},
   "source": [
    "# Chapter 10 The Factory"
   ]
  },
  {
   "cell_type": "markdown",
   "metadata": {},
   "source": [
    "The factory is the last design pattern covered. The main objective of the factory is to provide a class that spits objects when called, and transforms strings into objects. With that it is able to provide an easy interface and also develop the open-closed principle.\n"
   ]
  },
  {
   "cell_type": "markdown",
   "metadata": {},
   "source": [
    "## The main class\n"
   ]
  },
  {
   "cell_type": "code",
   "execution_count": 5,
   "metadata": {},
   "outputs": [],
   "source": [
    "class PayOffFactory:\n",
    "    def __init__(self):\n",
    "        self.__TheCreatorFunctions = {}        \n",
    "    \n",
    "    def __del__(self):\n",
    "        del self\n",
    "    \n",
    "    def RegisterPayOff(self, PayOffId, CreatorFunction):\n",
    "        self.__TheCreatorFunctions[PayOffId] = CreatorFunction\n",
    "        \n",
    "    def CreatePayOff(self, PayOffId, Strike):\n",
    "        if PayOffId not in self.__TheCreatorFunctions.keys():\n",
    "            print(f'{PayOffId} is an unknown payoff')\n",
    "            return None\n",
    "        else:\n",
    "            return self.__TheCreatorFunctions[PayOffId](Strike)   "
   ]
  },
  {
   "cell_type": "markdown",
   "metadata": {},
   "source": [
    "The initial code adds a template class for handling the registrations, the code looks like this:"
   ]
  },
  {
   "cell_type": "code",
   "execution_count": 6,
   "metadata": {},
   "outputs": [],
   "source": [
    "class PayOffHelper:    \n",
    "    \n",
    "    def __init__(self,PayOffId,PayOff):\n",
    "        self.PayOff = PayOff        \n",
    "        thePayOffFactory.RegisterPayOff(PayOffId,self.Create)\n",
    "        \n",
    "\n",
    "    def Create(self, Strike):\n",
    "        return self.PayOff(Strike)\n",
    "    "
   ]
  },
  {
   "cell_type": "markdown",
   "metadata": {},
   "source": [
    "However this can be confusing and a little bit of a mess, this construction makes sense in strong typed languages such as C++ but in python this does not make sense, and it is way simpler to just call the method, since it is not needed the PayOffHelper (that in the C++ code was a template class). In C++ the template PayOffHelper allows to register payoffs without knowing the type (something that is not possible in the method of the Factory class), in python knowing the type is not needed, thus it makes no sense to really use it.\n"
   ]
  },
  {
   "cell_type": "markdown",
   "metadata": {},
   "source": [
    "### Using thePayOffFactory"
   ]
  },
  {
   "cell_type": "code",
   "execution_count": 24,
   "metadata": {},
   "outputs": [],
   "source": [
    "class PayOff():\n",
    "    def __init__(self):\n",
    "        pass\n",
    "    \n",
    "    def __call__(self,Spot):\n",
    "        pass    \n",
    "\n",
    "class PayOffBridge():        \n",
    "    def __del__(self):\n",
    "        del self\n",
    "        \n",
    "    def copy(self,InnerPayOff):\n",
    "        from copy import deepcopy\n",
    "        self = deepcopy(InnerPayOff)\n",
    "        \n",
    "class PayOffCall(PayOff,PayOffBridge):\n",
    "    def __init__(self,Strike_):\n",
    "        self.__Strike = Strike_\n",
    "        \n",
    "    def __call__(self,Spot):\n",
    "        return max(Spot - self.__Strike,0)\n",
    "\n",
    "class PayOffPut(PayOff,PayOffBridge):\n",
    "    def __init__(self,Strike_):\n",
    "        self.__Strike = Strike_\n",
    "        \n",
    "    def __call__(self,Spot):\n",
    "        return max(self.__Strike - Spot,0) \n",
    "    \n",
    "class PayOffForward(PayOff,PayOffBridge):\n",
    "    def __init__(self, Strike):\n",
    "        self.__Strike = Strike\n",
    "        \n",
    "    def __call__(self, Spot):\n",
    "        return Spot - Strike"
   ]
  },
  {
   "cell_type": "code",
   "execution_count": 7,
   "metadata": {},
   "outputs": [],
   "source": [
    "global thePayOffFactory  # We just the global keyword to be accesible from anywhere\n",
    "thePayOffFactory  = PayOffFactory()"
   ]
  },
  {
   "cell_type": "markdown",
   "metadata": {},
   "source": [
    "Registering objects using the PayOffHelper"
   ]
  },
  {
   "cell_type": "code",
   "execution_count": 8,
   "metadata": {},
   "outputs": [],
   "source": [
    "RegisterCall = PayOffHelper(\"call\",PayOffCall)\n",
    "RegisterPut = PayOffHelper(\"put\",PayOffPut)"
   ]
  },
  {
   "cell_type": "markdown",
   "metadata": {},
   "source": [
    "Now we use it for a very simple example."
   ]
  },
  {
   "cell_type": "code",
   "execution_count": 13,
   "metadata": {},
   "outputs": [
    {
     "name": "stdout",
     "output_type": "stream",
     "text": [
      "The payoff is: 1\n"
     ]
    }
   ],
   "source": [
    "Strike = 2\n",
    "name = \"call\"\n",
    "Spot = 3\n",
    "thePayOFF = thePayOffFactory.CreatePayOff(name,Strike)\n",
    "if thePayOFF != None:\n",
    "    print(f'The payoff is: {thePayOFF(Spot)}')\n",
    "    del thePayOFF"
   ]
  },
  {
   "cell_type": "markdown",
   "metadata": {},
   "source": [
    "Now we will do the same but registering it with the method of the factory."
   ]
  },
  {
   "cell_type": "code",
   "execution_count": 18,
   "metadata": {},
   "outputs": [],
   "source": [
    "del thePayOffFactory"
   ]
  },
  {
   "cell_type": "code",
   "execution_count": 20,
   "metadata": {},
   "outputs": [],
   "source": [
    "global thePayOffFactory  # We just the global keyword to be accesible from anywhere\n",
    "thePayOffFactory  = PayOffFactory()\n",
    "thePayOffFactory.RegisterPayOff(\"call\",PayOffCall)\n",
    "thePayOffFactory.RegisterPayOff(\"put\",PayOffPut)"
   ]
  },
  {
   "cell_type": "code",
   "execution_count": 21,
   "metadata": {},
   "outputs": [
    {
     "name": "stdout",
     "output_type": "stream",
     "text": [
      "The payoff is: 1\n"
     ]
    }
   ],
   "source": [
    "Strike = 2\n",
    "name = \"call\"\n",
    "Spot = 3\n",
    "thePayOFF = thePayOffFactory.CreatePayOff(name,Strike)\n",
    "if thePayOFF != None:\n",
    "    print(f'The payoff is: {thePayOFF(Spot)}')\n",
    "    del thePayOFF"
   ]
  },
  {
   "cell_type": "markdown",
   "metadata": {},
   "source": [
    "So we can see that the result is the same."
   ]
  },
  {
   "cell_type": "markdown",
   "metadata": {},
   "source": [
    "### Exercises"
   ]
  },
  {
   "cell_type": "markdown",
   "metadata": {},
   "source": [
    "**Exercise 10.1** Write a straddle class and register it with the factory."
   ]
  },
  {
   "cell_type": "markdown",
   "metadata": {},
   "source": [
    "The payoff of a straddle is the absolute difference between the strike and the spot."
   ]
  },
  {
   "cell_type": "markdown",
   "metadata": {},
   "source": [
    "Let's implement the class."
   ]
  },
  {
   "cell_type": "code",
   "execution_count": 25,
   "metadata": {},
   "outputs": [],
   "source": [
    "class PayOffStraddle(PayOff,PayOffBridge):\n",
    "    def __init__(self,Strike_):\n",
    "        self.__Strike = Strike_\n",
    "        \n",
    "    def __call__(self,Spot):\n",
    "        return abs(self.__Strike - Spot) "
   ]
  },
  {
   "cell_type": "markdown",
   "metadata": {},
   "source": [
    "Now we will register it."
   ]
  },
  {
   "cell_type": "code",
   "execution_count": 26,
   "metadata": {},
   "outputs": [],
   "source": [
    "thePayOffFactory.RegisterPayOff(\"straddle\",PayOffStraddle)"
   ]
  },
  {
   "cell_type": "markdown",
   "metadata": {},
   "source": [
    "And then we try some easy examples."
   ]
  },
  {
   "cell_type": "code",
   "execution_count": 27,
   "metadata": {},
   "outputs": [
    {
     "name": "stdout",
     "output_type": "stream",
     "text": [
      "The payoff is: 1\n"
     ]
    }
   ],
   "source": [
    "Strike = 2\n",
    "name = \"straddle\"\n",
    "Spot = 3\n",
    "thePayOFF = thePayOffFactory.CreatePayOff(name,Strike)\n",
    "if thePayOFF != None:\n",
    "    print(f'The payoff is: {thePayOFF(Spot)}')\n",
    "    del thePayOFF"
   ]
  },
  {
   "cell_type": "code",
   "execution_count": 28,
   "metadata": {},
   "outputs": [
    {
     "name": "stdout",
     "output_type": "stream",
     "text": [
      "The payoff is: 1\n"
     ]
    }
   ],
   "source": [
    "Strike = 4\n",
    "name = \"straddle\"\n",
    "Spot = 3\n",
    "thePayOFF = thePayOffFactory.CreatePayOff(name,Strike)\n",
    "if thePayOFF != None:\n",
    "    print(f'The payoff is: {thePayOFF(Spot)}')\n",
    "    del thePayOFF"
   ]
  },
  {
   "cell_type": "markdown",
   "metadata": {},
   "source": [
    "**Exercise 10.2** Our class cannot handle a double digital as it needs two strikes. Work out a solution that will handle options with multiple parameters."
   ]
  },
  {
   "cell_type": "markdown",
   "metadata": {},
   "source": [
    "**Exercise 10.3** Integrate the factory with a Monte Carlo routine."
   ]
  }
 ],
 "metadata": {
  "kernelspec": {
   "display_name": "Python 3",
   "language": "python",
   "name": "python3"
  },
  "language_info": {
   "codemirror_mode": {
    "name": "ipython",
    "version": 3
   },
   "file_extension": ".py",
   "mimetype": "text/x-python",
   "name": "python",
   "nbconvert_exporter": "python",
   "pygments_lexer": "ipython3",
   "version": "3.7.1"
  }
 },
 "nbformat": 4,
 "nbformat_minor": 2
}
