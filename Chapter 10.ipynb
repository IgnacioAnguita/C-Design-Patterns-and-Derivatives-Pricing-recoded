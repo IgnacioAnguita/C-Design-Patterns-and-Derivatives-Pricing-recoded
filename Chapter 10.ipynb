{
 "cells": [
  {
   "cell_type": "markdown",
   "metadata": {},
   "source": [
    "# Chapter 10 The Factory"
   ]
  },
  {
   "cell_type": "markdown",
   "metadata": {},
   "source": [
    "The factory is the last design pattern covered. The main objective of the factory is to provide a class that spits objects when called, and transforms strings into objects. With that it is able to provide an easy interface and also develop the open-closed principle.\n"
   ]
  },
  {
   "cell_type": "markdown",
   "metadata": {},
   "source": [
    "## The main class\n"
   ]
  },
  {
   "cell_type": "markdown",
   "metadata": {},
   "source": [
    "RegisterPayOff allow us to register new payoffs and CreatePayOff searches into the dictionary TheCratorFunctions for a constructor for this payoff and calls it. We use a dictionary to store creator functions (aka constructors) because it allow us to save unique pairs between a string (the key) and a function (the value)."
   ]
  },
  {
   "cell_type": "code",
   "execution_count": 2,
   "metadata": {},
   "outputs": [],
   "source": [
    "class PayOffFactory:\n",
    "    def __init__(self):\n",
    "        self.__TheCreatorFunctions = {}        \n",
    "    \n",
    "    def __del__(self):\n",
    "        del self\n",
    "    \n",
    "    def RegisterPayOff(self, PayOffId, CreatorFunction):\n",
    "        self.__TheCreatorFunctions[PayOffId] = CreatorFunction\n",
    "        \n",
    "    def CreatePayOff(self, PayOffId, Strike):\n",
    "        if PayOffId not in self.__TheCreatorFunctions.keys():\n",
    "            print(f'{PayOffId} is an unknown payoff')\n",
    "            return None\n",
    "        else:\n",
    "            return self.__TheCreatorFunctions[PayOffId](Strike)   "
   ]
  },
  {
   "cell_type": "markdown",
   "metadata": {},
   "source": [
    "The initial code adds a template class for handling the registrations, the code looks like this:"
   ]
  },
  {
   "cell_type": "code",
   "execution_count": 3,
   "metadata": {},
   "outputs": [],
   "source": [
    "class PayOffHelper:    \n",
    "    \n",
    "    def __init__(self,PayOffId,PayOff):\n",
    "        self.PayOff = PayOff        \n",
    "        thePayOffFactory.RegisterPayOff(PayOffId,self.Create)\n",
    "        \n",
    "\n",
    "    def Create(self, Strike):\n",
    "        return self.PayOff(Strike)\n",
    "    "
   ]
  },
  {
   "cell_type": "markdown",
   "metadata": {},
   "source": [
    "However this can be confusing and a little bit of a mess, this construction makes sense in strong typed languages such as C++ but in python this does not make sense, and it is way simpler to just call the method, since it is not needed the PayOffHelper (that in the C++ code was a template class). In C++ the template PayOffHelper allows to register payoffs without knowing the type (something that is not possible in the method of the Factory class), in python knowing the type is not needed, thus it makes no sense to really use it.\n"
   ]
  },
  {
   "cell_type": "markdown",
   "metadata": {},
   "source": [
    "### Using thePayOffFactory"
   ]
  },
  {
   "cell_type": "markdown",
   "metadata": {},
   "source": [
    "We copy all the code for the PayOffs."
   ]
  },
  {
   "cell_type": "code",
   "execution_count": 4,
   "metadata": {},
   "outputs": [],
   "source": [
    "class PayOff:\n",
    "    def __init__(self):\n",
    "        pass\n",
    "    \n",
    "    def __call__(self,Spot):\n",
    "        pass    \n",
    "\n",
    "class PayOffBridge:        \n",
    "    def __del__(self):\n",
    "        del self\n",
    "        \n",
    "    def copy(self,InnerPayOff):\n",
    "        from copy import deepcopy\n",
    "        self = deepcopy(InnerPayOff)\n",
    "        \n",
    "class PayOffCall(PayOff,PayOffBridge):\n",
    "    def __init__(self,Strike_):\n",
    "        self.__Strike = Strike_\n",
    "        \n",
    "    def __call__(self,Spot):\n",
    "        return max(Spot - self.__Strike,0)\n",
    "\n",
    "class PayOffPut(PayOff,PayOffBridge):\n",
    "    def __init__(self,Strike_):\n",
    "        self.__Strike = Strike_\n",
    "        \n",
    "    def __call__(self,Spot):\n",
    "        return max(self.__Strike - Spot,0) \n",
    "    \n",
    "class PayOffForward(PayOff,PayOffBridge):\n",
    "    def __init__(self, Strike):\n",
    "        self.__Strike = Strike\n",
    "        \n",
    "    def __call__(self, Spot):\n",
    "        return Spot - Strike"
   ]
  },
  {
   "cell_type": "code",
   "execution_count": 5,
   "metadata": {},
   "outputs": [],
   "source": [
    "global thePayOffFactory  # We just the global keyword to be accesible from anywhere\n",
    "thePayOffFactory  = PayOffFactory()"
   ]
  },
  {
   "cell_type": "markdown",
   "metadata": {},
   "source": [
    "Registering objects using the PayOffHelper"
   ]
  },
  {
   "cell_type": "code",
   "execution_count": 6,
   "metadata": {},
   "outputs": [],
   "source": [
    "RegisterCall = PayOffHelper(\"call\",PayOffCall)\n",
    "RegisterPut = PayOffHelper(\"put\",PayOffPut)"
   ]
  },
  {
   "cell_type": "markdown",
   "metadata": {},
   "source": [
    "Now we use it for a very simple example."
   ]
  },
  {
   "cell_type": "code",
   "execution_count": 7,
   "metadata": {},
   "outputs": [
    {
     "name": "stdout",
     "output_type": "stream",
     "text": [
      "The payoff is: 1\n"
     ]
    }
   ],
   "source": [
    "Strike = 2\n",
    "name = \"call\"\n",
    "Spot = 3\n",
    "thePayOFF = thePayOffFactory.CreatePayOff(name,Strike)\n",
    "if thePayOFF != None:\n",
    "    print(f'The payoff is: {thePayOFF(Spot)}')\n",
    "    del thePayOFF"
   ]
  },
  {
   "cell_type": "markdown",
   "metadata": {},
   "source": [
    "Now we will do the same but registering it with the method of the factory."
   ]
  },
  {
   "cell_type": "code",
   "execution_count": 8,
   "metadata": {},
   "outputs": [],
   "source": [
    "del thePayOffFactory"
   ]
  },
  {
   "cell_type": "code",
   "execution_count": 9,
   "metadata": {},
   "outputs": [],
   "source": [
    "global thePayOffFactory  # We just the global keyword to be accesible from anywhere\n",
    "thePayOffFactory  = PayOffFactory()\n",
    "thePayOffFactory.RegisterPayOff(\"call\",PayOffCall)\n",
    "thePayOffFactory.RegisterPayOff(\"put\",PayOffPut)"
   ]
  },
  {
   "cell_type": "code",
   "execution_count": 10,
   "metadata": {},
   "outputs": [
    {
     "name": "stdout",
     "output_type": "stream",
     "text": [
      "The payoff is: 1\n"
     ]
    }
   ],
   "source": [
    "Strike = 2\n",
    "name = \"call\"\n",
    "Spot = 3\n",
    "thePayOFF = thePayOffFactory.CreatePayOff(name,Strike)\n",
    "if thePayOFF != None:\n",
    "    print(f'The payoff is: {thePayOFF(Spot)}')\n",
    "    del thePayOFF"
   ]
  },
  {
   "cell_type": "markdown",
   "metadata": {},
   "source": [
    "So we can see that the result is the same."
   ]
  },
  {
   "cell_type": "markdown",
   "metadata": {},
   "source": [
    "### Exercises"
   ]
  },
  {
   "cell_type": "markdown",
   "metadata": {},
   "source": [
    "**Exercise 10.1** Write a straddle class and register it with the factory."
   ]
  },
  {
   "cell_type": "markdown",
   "metadata": {},
   "source": [
    "The payoff of a straddle is the absolute difference between the strike and the spot."
   ]
  },
  {
   "cell_type": "markdown",
   "metadata": {},
   "source": [
    "Let's implement the class."
   ]
  },
  {
   "cell_type": "code",
   "execution_count": 11,
   "metadata": {},
   "outputs": [],
   "source": [
    "class PayOffStraddle(PayOff,PayOffBridge):\n",
    "    def __init__(self,Strike_):\n",
    "        self.__Strike = Strike_\n",
    "        \n",
    "    def __call__(self,Spot):\n",
    "        return abs(self.__Strike - Spot) "
   ]
  },
  {
   "cell_type": "markdown",
   "metadata": {},
   "source": [
    "Now we will register it."
   ]
  },
  {
   "cell_type": "code",
   "execution_count": 12,
   "metadata": {},
   "outputs": [],
   "source": [
    "thePayOffFactory.RegisterPayOff(\"straddle\",PayOffStraddle)"
   ]
  },
  {
   "cell_type": "markdown",
   "metadata": {},
   "source": [
    "And then we try some easy examples."
   ]
  },
  {
   "cell_type": "code",
   "execution_count": 13,
   "metadata": {},
   "outputs": [
    {
     "name": "stdout",
     "output_type": "stream",
     "text": [
      "The payoff is: 1\n"
     ]
    }
   ],
   "source": [
    "Strike = 2\n",
    "name = \"straddle\"\n",
    "Spot = 3\n",
    "thePayOFF = thePayOffFactory.CreatePayOff(name,Strike)\n",
    "if thePayOFF != None:\n",
    "    print(f'The payoff is: {thePayOFF(Spot)}')\n",
    "    del thePayOFF"
   ]
  },
  {
   "cell_type": "code",
   "execution_count": 14,
   "metadata": {},
   "outputs": [
    {
     "name": "stdout",
     "output_type": "stream",
     "text": [
      "The payoff is: 1\n"
     ]
    }
   ],
   "source": [
    "Strike = 4\n",
    "name = \"straddle\"\n",
    "Spot = 3\n",
    "thePayOFF = thePayOffFactory.CreatePayOff(name,Strike)\n",
    "if thePayOFF != None:\n",
    "    print(f'The payoff is: {thePayOFF(Spot)}')\n",
    "    del thePayOFF"
   ]
  },
  {
   "cell_type": "markdown",
   "metadata": {},
   "source": [
    "**Exercise 10.2** Our class cannot handle a double digital as it needs two strikes. Work out a solution that will handle options with multiple parameters."
   ]
  },
  {
   "cell_type": "markdown",
   "metadata": {},
   "source": [
    "We can do several things for that. One way is to rewrite it so we input a dictionary and then the payoff extracts the necessary data from the dictionary. \n",
    "\n",
    "Other way of doing it is just put *args, ** kwargs, this python syntax allow us to input all the variables we want without having to previously specify them. We will take the second approach since it does not require to rewritte the class."
   ]
  },
  {
   "cell_type": "code",
   "execution_count": 15,
   "metadata": {},
   "outputs": [],
   "source": [
    "class PayOffFactory:\n",
    "    def __init__(self):\n",
    "        self.__TheCreatorFunctions = {}        \n",
    "    \n",
    "    def __del__(self):\n",
    "        del self\n",
    "    \n",
    "    def RegisterPayOff(self, PayOffId, CreatorFunction):\n",
    "        self.__TheCreatorFunctions[PayOffId] = CreatorFunction\n",
    "        \n",
    "    def CreatePayOff(self, PayOffId, *args, **kwargs):\n",
    "        if PayOffId not in self.__TheCreatorFunctions.keys():\n",
    "            print(f'{PayOffId} is an unknown payoff')\n",
    "            return None\n",
    "        else:\n",
    "            return self.__TheCreatorFunctions[PayOffId](*args, **kwargs)   "
   ]
  },
  {
   "cell_type": "markdown",
   "metadata": {},
   "source": [
    "We will see if it works for a plain vanilla call."
   ]
  },
  {
   "cell_type": "code",
   "execution_count": 16,
   "metadata": {},
   "outputs": [],
   "source": [
    "del thePayOffFactory"
   ]
  },
  {
   "cell_type": "code",
   "execution_count": 17,
   "metadata": {},
   "outputs": [],
   "source": [
    "thePayOffFactory  = PayOffFactory()\n",
    "thePayOffFactory.RegisterPayOff(\"call\",PayOffCall)"
   ]
  },
  {
   "cell_type": "code",
   "execution_count": 18,
   "metadata": {},
   "outputs": [
    {
     "name": "stdout",
     "output_type": "stream",
     "text": [
      "The payoff is: 1\n"
     ]
    }
   ],
   "source": [
    "Strike = 2\n",
    "name = \"call\"\n",
    "Spot = 3\n",
    "thePayOFF = thePayOffFactory.CreatePayOff(name,Strike)\n",
    "if thePayOFF != None:\n",
    "    print(f'The payoff is: {thePayOFF(Spot)}')\n",
    "    del thePayOFF"
   ]
  },
  {
   "cell_type": "markdown",
   "metadata": {},
   "source": [
    "Now we will use it with a double digital."
   ]
  },
  {
   "cell_type": "code",
   "execution_count": 19,
   "metadata": {},
   "outputs": [],
   "source": [
    "class PayOffDoubleDigital(PayOff,PayOffBridge):\n",
    "    def __init__(self, LowerLevel_, UpperLevel_):\n",
    "        self.__LowerLevel = LowerLevel_\n",
    "        self.__UpperLevel = UpperLevel_\n",
    "        \n",
    "    def __call__(self,Spot):\n",
    "        if Spot <= self.__LowerLevel or Spot >=  self.__UpperLevel:\n",
    "            return 0\n",
    "        else:\n",
    "            return 1           "
   ]
  },
  {
   "cell_type": "code",
   "execution_count": 20,
   "metadata": {},
   "outputs": [],
   "source": [
    "thePayOffFactory.RegisterPayOff(\"doubleDigital\",PayOffDoubleDigital)"
   ]
  },
  {
   "cell_type": "code",
   "execution_count": 21,
   "metadata": {},
   "outputs": [
    {
     "name": "stdout",
     "output_type": "stream",
     "text": [
      "The payoff is: 1\n"
     ]
    }
   ],
   "source": [
    "UpperLevel = 2\n",
    "LowerLevel = 5\n",
    "name = \"doubleDigital\"\n",
    "Spot = 4\n",
    "thePayOFF = thePayOffFactory.CreatePayOff(name,UpperLevel,LowerLevel)\n",
    "if thePayOFF != None:\n",
    "    print(f'The payoff is: {thePayOFF(Spot)}')\n",
    "    del thePayOFF"
   ]
  },
  {
   "cell_type": "markdown",
   "metadata": {},
   "source": [
    "**Exercise 10.3** Integrate the factory with a Monte Carlo routine."
   ]
  },
  {
   "cell_type": "markdown",
   "metadata": {},
   "source": [
    "Finally we can easily integrate it with a Monte Carlo routine."
   ]
  },
  {
   "cell_type": "markdown",
   "metadata": {},
   "source": [
    "We will copy all the code we need (that we have developed in the previous chapters)."
   ]
  },
  {
   "cell_type": "code",
   "execution_count": 22,
   "metadata": {},
   "outputs": [],
   "source": [
    "import numpy as np\n",
    "from copy import deepcopy\n",
    "from random import random\n",
    "from math import exp, sqrt, log\n",
    "\n",
    "class StatisticsMC:\n",
    "    def __init__(self):\n",
    "        pass\n",
    "    \n",
    "    def GetResultsSoFar(self):\n",
    "        pass\n",
    "    \n",
    "    def DumpOneResult(self,result):\n",
    "        pass        \n",
    "  \n",
    "    def clone(self):\n",
    "        pass\n",
    "    \n",
    "    def __del__(self):\n",
    "        pass   \n",
    "    \n",
    "class StatisticsMean(StatisticsMC):\n",
    "    def __init__(self):\n",
    "        self.__RunningSum = 0\n",
    "        self.__PathsDone = 0\n",
    "        \n",
    "    def GetResultsSoFar(self): \n",
    "        Results = [[0]]\n",
    "        Results[0][0] = self.__RunningSum / self.__PathsDone\n",
    "        return Results\n",
    "    \n",
    "    def DumpOneResult(self,result):\n",
    "        self.__PathsDone += 1\n",
    "        self.__RunningSum += result        \n",
    "        \n",
    "    def clone(self):\n",
    "        return deepcopy(self)\n",
    "    \n",
    "    def __del__(self):\n",
    "        del self\n",
    "        \n",
    "class ConvergenceTable(StatisticsMC):\n",
    "    def __init__(self, Inner_):\n",
    "        self.__Inner = Inner_\n",
    "        self.__ResultsSoFar = []\n",
    "        self.__StoppingPoint = 2\n",
    "        self.__PathsDone = 0\n",
    "    \n",
    "    def clone(self):\n",
    "        return deepcopy(self)\n",
    "    \n",
    "    def DumpOneResult(self,result):\n",
    "        self.__Inner.DumpOneResult(result)\n",
    "        self.__PathsDone += 1\n",
    "        \n",
    "        \n",
    "        if self.__PathsDone == self.__StoppingPoint:\n",
    "            self.__StoppingPoint *=2\n",
    "            thisResult = self.__Inner.GetResultsSoFar()            \n",
    "            \n",
    "            for i in range(len(thisResult)):\n",
    "                thisResult[i].append(self.__PathsDone)\n",
    "                self.__ResultsSoFar.append(thisResult[i]) \n",
    "\n",
    "            \n",
    "    \n",
    "    def GetResultsSoFar(self):\n",
    "        \n",
    "        tmp = self.__ResultsSoFar \n",
    "        \n",
    "        if self.__PathsDone*2 != self.__StoppingPoint:\n",
    "            thisResult = self.__Inner.GetResultsSoFar()\n",
    "            \n",
    "            for i in range(len(thisResult)):\n",
    "                thisResult[i].append(self.__PathsDone)\n",
    "                tmp.append(thisResult[i]) \n",
    "                \n",
    "        return tmp\n",
    "                \n",
    "        \n",
    "class ParametersInner:\n",
    "    def __init__(self):\n",
    "        pass\n",
    "    \n",
    "    def Integral(self,time1, time2):\n",
    "        pass\n",
    "    \n",
    "    def IntegralSquare(self,time1,time2):\n",
    "        pass\n",
    "\n",
    "class Parameters:    \n",
    "    def RootMeanSquare(self,time1,time2):\n",
    "        total = self.Integral(time1,time2)\n",
    "        return total/(time2-time1)\n",
    "    \n",
    "    def Mean(self,time1, time2):\n",
    "        total = self.Integral(time1,time2)\n",
    "        return total/(time2-time1)\n",
    "    \n",
    "    def copy(self,original):\n",
    "        from copy import deepcopy\n",
    "        self = deepcopy(InnerPayOff) \n",
    "        \n",
    "    def __del__(self):\n",
    "        del self    \n",
    "        \n",
    "class ParametersConstant(ParametersInner,Parameters):\n",
    "    def __init__(self,constant):\n",
    "        self.__Constant = constant\n",
    "        self.__ConstantSquare = self.__Constant*self.__Constant\n",
    "    \n",
    "    def Integral(self, time1, time2):\n",
    "        return (time2 - time1)*self.__Constant\n",
    "    \n",
    "    def IntegralSquare(self, time1, time2):\n",
    "        return (time2 - time1)*self.__ConstantSquare   \n",
    "\n",
    "class Generator:\n",
    "    def __init__(self,Dimensionality_ = 1):\n",
    "        self.__Dimensionality = Dimensionality_\n",
    "        \n",
    "    def ResetDimensionality(self,Dimensionality_):\n",
    "        self.__Dimensionality = Dimensionality_\n",
    "    \n",
    "    def GetGaussians(self):\n",
    "        Variates = np.random.normal(size = self.__Dimensionality)\n",
    "        return Variates\n",
    "    \n",
    "    \n",
    "class VanillaOption:\n",
    "    def __init__(self, ThePayOff_, Expiry_):\n",
    "        self.__ThePayOff = ThePayOff_\n",
    "        self.__Expiry = Expiry_\n",
    "        \n",
    "    def GetExpiry(self):\n",
    "        return self.__Expiry\n",
    "    \n",
    "    def OptionPayOff(self, Spot):\n",
    "        return self.__ThePayOff(Spot)\n",
    "    \n",
    "def SimpleMonteCarlo(TheOption,\n",
    "                     Spot,\n",
    "                     Vol,\n",
    "                     r,\n",
    "                     NumberOfPaths,\n",
    "                     gatherer,\n",
    "                     generator):\n",
    "    \n",
    "    Expiry = TheOption.GetExpiry()    \n",
    "    variance = Vol.IntegralSquare(0,Expiry)\n",
    "    rootVariance = sqrt(variance)\n",
    "    itoCorrection = -0.5*variance\n",
    "    \n",
    "    movedSpot = Spot*exp(r.Integral(0,Expiry) + itoCorrection)\n",
    "    discounting = exp(-r.Integral(0,Expiry))\n",
    "    for i in range(NumberOfPaths):\n",
    "        thisGaussian = generator.GetGaussians()\n",
    "        thisSpot = movedSpot*exp(rootVariance*thisGaussian)\n",
    "        thisPayoff = TheOption.OptionPayOff(thisSpot)\n",
    "        gatherer.DumpOneResult(thisPayoff*discounting)"
   ]
  },
  {
   "cell_type": "markdown",
   "metadata": {},
   "source": [
    "We eliminate the previous factory."
   ]
  },
  {
   "cell_type": "code",
   "execution_count": 23,
   "metadata": {},
   "outputs": [],
   "source": [
    "del thePayOffFactory"
   ]
  },
  {
   "cell_type": "markdown",
   "metadata": {},
   "source": [
    "We create the new factory and register the call payoff."
   ]
  },
  {
   "cell_type": "code",
   "execution_count": 24,
   "metadata": {},
   "outputs": [],
   "source": [
    "thePayOffFactory  = PayOffFactory()\n",
    "thePayOffFactory.RegisterPayOff(\"call\",PayOffCall)"
   ]
  },
  {
   "cell_type": "markdown",
   "metadata": {},
   "source": [
    "We set our variables."
   ]
  },
  {
   "cell_type": "code",
   "execution_count": 25,
   "metadata": {},
   "outputs": [],
   "source": [
    "Strike = 40\n",
    "Spot = 42\n",
    "name = \"call\"\n",
    "r_ = 0.1\n",
    "Vol_ = 0.2\n",
    "NumberOfPaths = 10000\n",
    "Maturity = 0.5"
   ]
  },
  {
   "cell_type": "markdown",
   "metadata": {},
   "source": [
    "We run the all the code."
   ]
  },
  {
   "cell_type": "code",
   "execution_count": 26,
   "metadata": {},
   "outputs": [
    {
     "name": "stdout",
     "output_type": "stream",
     "text": [
      "The payoff is: 2\n",
      "Call price for 10000 paths: \n",
      "4.004910672086012\n",
      "2\n",
      "5.145002070939581\n",
      "4\n",
      "5.614216923908329\n",
      "8\n",
      "3.480848884874448\n",
      "16\n",
      "4.013585523228452\n",
      "32\n",
      "4.580557537591412\n",
      "64\n",
      "4.894159632796665\n",
      "128\n",
      "5.033604401264067\n",
      "256\n",
      "5.256957455873575\n",
      "512\n",
      "4.885656670072443\n",
      "1024\n",
      "4.838862747675183\n",
      "2048\n",
      "4.849347045770759\n",
      "4096\n",
      "4.778877225205469\n",
      "8192\n",
      "4.75831999793881\n",
      "10000\n"
     ]
    }
   ],
   "source": [
    "gatherer = StatisticsMean()\n",
    "gathererTwo = ConvergenceTable(gatherer)\n",
    "generator = Generator()\n",
    "thePayOFF = thePayOffFactory.CreatePayOff(name,Strike)\n",
    "if thePayOFF != None:\n",
    "\n",
    "    TheOption = VanillaOption(thePayOFF,Maturity)\n",
    "    r = ParametersConstant(r_)\n",
    "    Vol = ParametersConstant(Vol_)\n",
    "    SimpleMonteCarlo(TheOption,Spot,Vol,r,NumberOfPaths, gathererTwo, generator)\n",
    "    results = gathererTwo.GetResultsSoFar()\n",
    "    print(f'Call price for 10000 paths: ')\n",
    "    for i in range(len(results)):\n",
    "        for j in range(len(results[i])):\n",
    "            print(results[i][j])\n",
    "else:\n",
    "    print('Incorrect PayOff')"
   ]
  },
  {
   "cell_type": "markdown",
   "metadata": {},
   "source": [
    "We could have implemented the same but putting the factory inside the montecarlo, and then just sending a string and other specific parameters of the payoff, using the  *args,** kwargs that we have used before. However if we do it this way we will face many issues and our open closed principle might get damaged."
   ]
  }
 ],
 "metadata": {
  "kernelspec": {
   "display_name": "Python 3",
   "language": "python",
   "name": "python3"
  },
  "language_info": {
   "codemirror_mode": {
    "name": "ipython",
    "version": 3
   },
   "file_extension": ".py",
   "mimetype": "text/x-python",
   "name": "python",
   "nbconvert_exporter": "python",
   "pygments_lexer": "ipython3",
   "version": "3.7.1"
  }
 },
 "nbformat": 4,
 "nbformat_minor": 2
}
