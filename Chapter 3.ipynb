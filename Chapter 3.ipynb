{
 "cells": [
  {
   "cell_type": "markdown",
   "metadata": {},
   "source": [
    "# Chapter 3"
   ]
  },
  {
   "cell_type": "markdown",
   "metadata": {},
   "source": [
    "The aim of this chapter is dive deeper into the different considerations of using objects and virtual functions as pay-offs. "
   ]
  },
  {
   "cell_type": "markdown",
   "metadata": {},
   "source": [
    "### The parent class"
   ]
  },
  {
   "cell_type": "code",
   "execution_count": 1,
   "metadata": {},
   "outputs": [],
   "source": [
    "class PayOff():\n",
    "    def __init__(self):\n",
    "        pass\n",
    "    \n",
    "    def __call__(self,Spot):\n",
    "        pass    "
   ]
  },
  {
   "cell_type": "markdown",
   "metadata": {},
   "source": [
    "### The new inhereted classes"
   ]
  },
  {
   "cell_type": "code",
   "execution_count": 10,
   "metadata": {},
   "outputs": [],
   "source": [
    "class PayOffCall(PayOff):\n",
    "    def __init__(self,Strike_):\n",
    "        self.__Strike = Strike_\n",
    "        \n",
    "    def __call__(self,Spot):\n",
    "        return max(Spot - self.__Strike,0)"
   ]
  },
  {
   "cell_type": "code",
   "execution_count": 5,
   "metadata": {},
   "outputs": [],
   "source": [
    "class PayOffPut(PayOff):\n",
    "    def __init__(self,Strike_):\n",
    "        self.__Strike = Strike_\n",
    "        \n",
    "    def __call__(self,Spot):\n",
    "        return max(self.__Strike - Spot,0)"
   ]
  },
  {
   "cell_type": "markdown",
   "metadata": {},
   "source": [
    "### Putting everything together"
   ]
  },
  {
   "cell_type": "code",
   "execution_count": 6,
   "metadata": {},
   "outputs": [],
   "source": [
    "from random import random\n",
    "from math import exp, sqrt, log"
   ]
  },
  {
   "cell_type": "code",
   "execution_count": 7,
   "metadata": {},
   "outputs": [],
   "source": [
    "def SimpleMonteCarlo2(thePayOff,\n",
    "                     Expiry,\n",
    "                     Spot,\n",
    "                     Vol,\n",
    "                     r,\n",
    "                     NumberOfPaths):\n",
    "    \n",
    "    variance = Vol*Vol*Expiry\n",
    "    rootVariance = sqrt(variance)\n",
    "    itoCorrection = -0.5*variance\n",
    "    \n",
    "    movedSpot = Spot*exp(r*Expiry + itoCorrection)\n",
    "    runningSum = 0\n",
    "    for i in range(NumberOfPaths):\n",
    "        thisGaussian = GetOneGaussianByBoxMuller()\n",
    "        thisSpot = movedSpot*exp(rootVariance*thisGaussian)\n",
    "        thisPayoff = thePayOff(thisSpot)\n",
    "        runningSum += thisPayoff\n",
    "    \n",
    "    mean = runningSum / NumberOfPaths\n",
    "    mean *= exp(-r*Expiry)\n",
    "    return mean      "
   ]
  },
  {
   "cell_type": "code",
   "execution_count": 8,
   "metadata": {},
   "outputs": [],
   "source": [
    "def GetOneGaussianBySummation():\n",
    "    result = 0\n",
    "    for j in range(12):\n",
    "        result += random()\n",
    "    result -= 6\n",
    "    return result\n",
    "\n",
    "def GetOneGaussianByBoxMuller():\n",
    "    sizeSquared = 1\n",
    "    while sizeSquared >= 1:\n",
    "        x = 2*random() - 1\n",
    "        y = 2*random() - 1\n",
    "        sizeSquared = x*x + y*y\n",
    "    \n",
    "    result = x*sqrt(-2*log(sizeSquared)/sizeSquared)\n",
    "    return result"
   ]
  },
  {
   "cell_type": "code",
   "execution_count": 24,
   "metadata": {},
   "outputs": [
    {
     "name": "stdout",
     "output_type": "stream",
     "text": [
      "Call price: 4.82, for 10000 paths\n"
     ]
    }
   ],
   "source": [
    "callPayOff = PayOffCall(40)\n",
    "callPrice = SimpleMonteCarlo2(callPayOff,0.5,42,0.2,0.1,10000)\n",
    "print(f'Call price: {round(callPrice,2)}, for 10000 paths')"
   ]
  },
  {
   "cell_type": "markdown",
   "metadata": {},
   "source": [
    "### Adding extra pay-offs without changing existing code"
   ]
  },
  {
   "cell_type": "markdown",
   "metadata": {},
   "source": [
    "Now we will add another option without changing anything, in this case a double digital."
   ]
  },
  {
   "cell_type": "code",
   "execution_count": 35,
   "metadata": {},
   "outputs": [],
   "source": [
    "class PayOffDoubleDigital(PayOff):\n",
    "    def __init__(self, LowerLevel_, UpperLevel_):\n",
    "        self.__LowerLevel = LowerLevel_\n",
    "        self.__UpperLevel = UpperLevel_\n",
    "        \n",
    "    def __call__(self,Spot):\n",
    "        if Spot <= self.__LowerLevel or Spot >=  self.__UpperLevel:\n",
    "            return 0\n",
    "        else:\n",
    "            return 1                  "
   ]
  },
  {
   "cell_type": "markdown",
   "metadata": {},
   "source": [
    "We will run the code again now with this class."
   ]
  },
  {
   "cell_type": "code",
   "execution_count": 36,
   "metadata": {},
   "outputs": [
    {
     "name": "stdout",
     "output_type": "stream",
     "text": [
      "Double digital option: 0.3206, for 1000000 paths\n"
     ]
    }
   ],
   "source": [
    "DoubleDigitalPayOff = PayOffDoubleDigital(100,120)\n",
    "DoubleDigitalPrice = SimpleMonteCarlo2(DoubleDigitalPayOff,1,100,0.2,0.05,1000000)\n",
    "print(f'Double digital option: {round(DoubleDigitalPrice,4)}, for 1000000 paths')"
   ]
  },
  {
   "cell_type": "markdown",
   "metadata": {},
   "source": [
    "### Exercises"
   ]
  },
  {
   "cell_type": "markdown",
   "metadata": {},
   "source": [
    "**Exercise 3.1** Write an inhereted class that does power options, and use it to price some."
   ]
  },
  {
   "cell_type": "code",
   "execution_count": 38,
   "metadata": {},
   "outputs": [],
   "source": [
    "class PayOffPowerCall(PayOff):\n",
    "    def __init__(self, PowerExponent_, Strike_):\n",
    "        self.__PowerExponent = PowerExponent_\n",
    "        self.__Strike = Strike_\n",
    "        \n",
    "    def __call__(self,Spot):\n",
    "        return max(pow(Spot,self.__PowerExponent)-self.__Strike,0) "
   ]
  },
  {
   "cell_type": "code",
   "execution_count": 39,
   "metadata": {},
   "outputs": [],
   "source": [
    "class PayOffPowerPut(PayOff):\n",
    "    def __init__(self, PowerExponent_, Strike_):\n",
    "        self.__PowerExponent = PowerExponent_\n",
    "        self.__Strike = Strike_\n",
    "        \n",
    "    def __call__(self,Spot):\n",
    "        return max(self.__Strike-pow(Spot,self.__PowerExponent),0)  "
   ]
  },
  {
   "cell_type": "code",
   "execution_count": 58,
   "metadata": {},
   "outputs": [
    {
     "name": "stdout",
     "output_type": "stream",
     "text": [
      "Power Call option: 4.7676, for 10000 paths\n"
     ]
    }
   ],
   "source": [
    "PowerCallPayOff = PayOffPowerCall(1,40)\n",
    "PowerCallPayOffPrice = SimpleMonteCarlo2(PowerCallPayOff,0.5,42,0.2,0.1,10000)\n",
    "print(f'Power Call option: {round(PowerCallPayOffPrice,4)}, for 10000 paths')"
   ]
  },
  {
   "cell_type": "code",
   "execution_count": 59,
   "metadata": {},
   "outputs": [
    {
     "name": "stdout",
     "output_type": "stream",
     "text": [
      "Double digital option: 0.8058, for 1000 paths\n"
     ]
    }
   ],
   "source": [
    "PowerPutPayOff = PayOffPowerPut(1,40)\n",
    "PowerPutPayOffPrice = SimpleMonteCarlo2(PowerPutPayOff,0.5,42,0.2,0.1,10000)\n",
    "print(f'Double digital option: {round(PowerPutPayOffPrice,4)}, for 10000 paths')"
   ]
  },
  {
   "cell_type": "markdown",
   "metadata": {},
   "source": [
    "**Exercise 3.2** Implement an interface in which the user inputs a stromg and this is turned into a pay-pff class."
   ]
  },
  {
   "cell_type": "markdown",
   "metadata": {},
   "source": [
    "To implement the interface we just have to use an if else statement inside a function that has as input a dictionary with all the arguments necessary."
   ]
  },
  {
   "cell_type": "code",
   "execution_count": 60,
   "metadata": {},
   "outputs": [],
   "source": [
    "def interface(arguments):\n",
    "    OptionType = arguments['OptionType']\n",
    "    \n",
    "    if OptionType == 'call':\n",
    "        return PayOffCall(arguments['Strike'])\n",
    "    \n",
    "    elif OptionType == 'put':\n",
    "        return PayOffPut(arguments['Strike'])\n",
    "    \n",
    "    elif OptionType == 'DoubleDigital' :\n",
    "        return PayOffDoubleDigital(arguments['LowerLevel'],arguments['UpperLevel'])\n",
    "    \n",
    "    elif OptionType == 'Power Call':\n",
    "        return PayOffPowerCall(arguments['Exponent'],arguments['Spot'])\n",
    "    \n",
    "    elif OptionType == 'Power Put':\n",
    "        return PayOffPowerPut(arguments['Exponent'],arguments['Spot'])       "
   ]
  },
  {
   "cell_type": "code",
   "execution_count": 65,
   "metadata": {},
   "outputs": [
    {
     "name": "stdout",
     "output_type": "stream",
     "text": [
      "Double digital option: 0.8048, for 10000 paths\n"
     ]
    }
   ],
   "source": [
    "PowerPutPayOff = interface({'OptionType':'Power Put', 'Exponent':1, 'Spot':40})\n",
    "PowerPutPayOffPrice = SimpleMonteCarlo2(PowerPutPayOff,0.5,42,0.2,0.1,10000)\n",
    "print(f'Double digital option: {round(PowerPutPayOffPrice,4)}, for 10000 paths')"
   ]
  },
  {
   "cell_type": "markdown",
   "metadata": {},
   "source": [
    "**Exercise 3.3** In the evil boss's list of demands in Chapter 1, try to identify as many inheretance relationships as possible."
   ]
  },
  {
   "cell_type": "markdown",
   "metadata": {},
   "source": [
    "This process is quite straightforward so it will not be solved here."
   ]
  }
 ],
 "metadata": {
  "kernelspec": {
   "display_name": "Python 3",
   "language": "python",
   "name": "python3"
  },
  "language_info": {
   "codemirror_mode": {
    "name": "ipython",
    "version": 3
   },
   "file_extension": ".py",
   "mimetype": "text/x-python",
   "name": "python",
   "nbconvert_exporter": "python",
   "pygments_lexer": "ipython3",
   "version": "3.7.1"
  }
 },
 "nbformat": 4,
 "nbformat_minor": 2
}
