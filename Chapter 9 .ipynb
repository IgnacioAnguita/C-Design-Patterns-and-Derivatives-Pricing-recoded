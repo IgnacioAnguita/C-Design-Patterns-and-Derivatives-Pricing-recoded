{
 "cells": [
  {
   "cell_type": "markdown",
   "metadata": {},
   "source": [
    "# Chapter 9 Solvers, templates, and implied volatilities"
   ]
  },
  {
   "cell_type": "markdown",
   "metadata": {},
   "source": [
    "In this chapter we will be covering the implementation of two techniques for solving numerically equations the bisection and the Newton-Raphson. Both techniques are implemented originally in the book using templates (to add flexibility to the code). However since we are coding in python we do not need templates and we can use directly functions.\n",
    "\n",
    "The objective of these solvers is to get the implied volatility given a model, the price of the derivative and the rest of variables."
   ]
  },
  {
   "cell_type": "code",
   "execution_count": 3,
   "metadata": {},
   "outputs": [],
   "source": [
    "import numpy as np\n",
    "import scipy.stats as si\n",
    "from math import exp,log,sqrt,pi"
   ]
  },
  {
   "cell_type": "markdown",
   "metadata": {},
   "source": [
    "We will define the BlackSchools call (with the BS model for pricing, obviously)."
   ]
  },
  {
   "cell_type": "code",
   "execution_count": 4,
   "metadata": {},
   "outputs": [],
   "source": [
    "class BSCall:\n",
    "    def __init__(self,r_,d_,T_,Spot_,Strike_):\n",
    "        self.__r = r_\n",
    "        self.__d = d_\n",
    "        self.__T = T_\n",
    "        self.__Spot = Spot_\n",
    "        self.__Strike = Strike_\n",
    "        \n",
    "    def __call__(self,Vol):\n",
    "        d1 = (log(self.__Spot / self.__Strike) + (self.__r + 0.5 * Vol ** 2) * self.__T) / (Vol * sqrt(self.__T))\n",
    "        d2 = (log(self.__Spot / self.__Strike) + (self.__r - 0.5 * Vol ** 2) * self.__T) / (Vol * sqrt(self.__T))\n",
    "    \n",
    "        return (self.__Spot * exp(-self.__d * self.__T) * si.norm.cdf(d1, 0.0, 1.0) - self.__Strike * \n",
    "                exp(-self.__r * self.__T) * si.norm.cdf(d2, 0.0, 1.0))"
   ]
  },
  {
   "cell_type": "markdown",
   "metadata": {},
   "source": [
    "We check that it works properly."
   ]
  },
  {
   "cell_type": "code",
   "execution_count": 5,
   "metadata": {},
   "outputs": [
    {
     "data": {
      "text/plain": [
       "4.37472312788827"
      ]
     },
     "execution_count": 5,
     "metadata": {},
     "output_type": "execute_result"
    }
   ],
   "source": [
    "theCall = BSCall(0.05, 0, 0.25, 50, 50)\n",
    "theCall(0.41)"
   ]
  },
  {
   "cell_type": "markdown",
   "metadata": {},
   "source": [
    "Now we implement the bisection. This technique gets an interval divides it in halfs checking if in each side the dependent variable is negative or positive ( hoping to have in one extreme a negative result and in the other a positive one). If that happens it means that in the middle of that interval the function is 0 (thus the solution is there), only if the function is continious.\n",
    "\n",
    "This is property of continious functions is call Bolzano's theorem:\n",
    "https://en.wikipedia.org/wiki/Intermediate_value_theorem\n",
    "\n",
    "Once that the interval is bisected the condition is evaluated, and the bisection is done again and again until it reaches convergency. To get a more profound explanation check the original book or the following link:\n",
    "https://en.wikipedia.org/wiki/Bisection_method"
   ]
  },
  {
   "cell_type": "code",
   "execution_count": 6,
   "metadata": {},
   "outputs": [],
   "source": [
    "def Bisection(Target,Low,High,Tolerance,TheFunction):\n",
    "    x = 0.5*(Low+High)\n",
    "    y = TheFunction(x)\n",
    "    \n",
    "    while abs(y-Target) > Tolerance:\n",
    "        if y < Target:\n",
    "            Low = x\n",
    "            \n",
    "        elif y > Target:\n",
    "            High = x\n",
    "            \n",
    "        x = 0.5*(Low + High)\n",
    "        \n",
    "        y = TheFunction(x)\n",
    "        \n",
    "        \n",
    "    return x"
   ]
  },
  {
   "cell_type": "markdown",
   "metadata": {},
   "source": [
    "We check that it works to get the volatility."
   ]
  },
  {
   "cell_type": "code",
   "execution_count": 19,
   "metadata": {},
   "outputs": [],
   "source": [
    "theCall = BSCall(0.05, 0, 0.25, 50, 50)"
   ]
  },
  {
   "cell_type": "code",
   "execution_count": 35,
   "metadata": {},
   "outputs": [
    {
     "name": "stdout",
     "output_type": "stream",
     "text": [
      "Wall time: 15.6 ms\n"
     ]
    },
    {
     "data": {
      "text/plain": [
       "0.4100000000066939"
      ]
     },
     "execution_count": 35,
     "metadata": {},
     "output_type": "execute_result"
    }
   ],
   "source": [
    "%%time\n",
    "Bisection(4.37472312788827,0.01,0.6,0.0000000001,theCall)"
   ]
  },
  {
   "cell_type": "markdown",
   "metadata": {},
   "source": [
    "This volatility is correct."
   ]
  },
  {
   "cell_type": "code",
   "execution_count": 8,
   "metadata": {},
   "outputs": [
    {
     "data": {
      "text/plain": [
       "4.3747231279541445"
      ]
     },
     "execution_count": 8,
     "metadata": {},
     "output_type": "execute_result"
    }
   ],
   "source": [
    "theCall(Bisection(4.37472312788827,0.01,0.6,0.0000000001,theCall))"
   ]
  },
  {
   "cell_type": "markdown",
   "metadata": {},
   "source": [
    "For the Newton-Raphson we use the derivative of the original function to reach to the convergence faster. This has advantages such as the speed however if the initial values are not well inputted then it is impossible to reach convergency, it is much more unstable than the bisection.\n",
    "\n",
    "Check the following link to learn more about the Newton-Raphson method: https://en.wikipedia.org/wiki/Newton%27s_method"
   ]
  },
  {
   "cell_type": "code",
   "execution_count": 9,
   "metadata": {},
   "outputs": [],
   "source": [
    "class BSCallTWO:\n",
    "    def __init__(self,r_,d_,T_,Spot_,Strike_):\n",
    "        self.__r = r_\n",
    "        self.__d = d_\n",
    "        self.__T = T_\n",
    "        self.__Spot = Spot_\n",
    "        self.__Strike = Strike_\n",
    "        \n",
    "    def Price(self,Vol):\n",
    "        d1 = (log(self.__Spot / self.__Strike) + (self.__r + 0.5 * Vol ** 2) * self.__T) / (Vol * sqrt(self.__T))\n",
    "        d2 = (log(self.__Spot / self.__Strike) + (self.__r - 0.5 * Vol ** 2) * self.__T) / (Vol * sqrt(self.__T))\n",
    "    \n",
    "        return (self.__Spot * exp(-self.__d * self.__T) * si.norm.cdf(d1, 0.0, 1.0) - self.__Strike * \n",
    "                exp(-self.__r * self.__T) * si.norm.cdf(d2, 0.0, 1.0))\n",
    "    \n",
    "    def Vega(self,Vol):\n",
    "        d1 = (log(self.__Spot / self.__Strike) + (self.__r + 0.5 * Vol ** 2) * self.__T) / (Vol * sqrt(self.__T))\n",
    "        return self.__Spot*exp(-0.5*d1*d1)*sqrt(self.__T)/sqrt(2*pi)\n",
    "        "
   ]
  },
  {
   "cell_type": "code",
   "execution_count": 39,
   "metadata": {},
   "outputs": [],
   "source": [
    "def NewtonRaphson(Target, Start, Tolerance, Value, Derivative):\n",
    "    y = Value(Start)\n",
    "    x = Start\n",
    "    \n",
    "    while abs(y - Target) > Tolerance:\n",
    "        d = Derivative(x)\n",
    "        x += (Target - y)/d\n",
    "        y = Value(x)  \n",
    "        \n",
    "        \n",
    "    return x"
   ]
  },
  {
   "cell_type": "markdown",
   "metadata": {},
   "source": [
    "As we can see we get the same result but faster."
   ]
  },
  {
   "cell_type": "code",
   "execution_count": 40,
   "metadata": {},
   "outputs": [],
   "source": [
    "theCall = BSCallTWO(0.05, 0, 0.25, 50, 50)"
   ]
  },
  {
   "cell_type": "code",
   "execution_count": 54,
   "metadata": {},
   "outputs": [
    {
     "name": "stdout",
     "output_type": "stream",
     "text": [
      "Wall time: 0 ns\n"
     ]
    },
    {
     "data": {
      "text/plain": [
       "0.4100000000000002"
      ]
     },
     "execution_count": 54,
     "metadata": {},
     "output_type": "execute_result"
    }
   ],
   "source": [
    "%%time\n",
    "NewtonRaphson(4.37472312788827,0.5,0.00000000001,theCall.Price,theCall.Vega)"
   ]
  },
  {
   "cell_type": "markdown",
   "metadata": {},
   "source": [
    "**Exercise 9.1** Modify the Newton-Raphson routine so that it does not endlessly loop if a root is not found."
   ]
  },
  {
   "cell_type": "markdown",
   "metadata": {},
   "source": [
    "For this exercise we will use the design pattern strategy, in order to externalize how part of one algorithm is implemented, using one of our terminator classes we developed previously in chapter 5."
   ]
  },
  {
   "cell_type": "code",
   "execution_count": 56,
   "metadata": {},
   "outputs": [],
   "source": [
    "import time\n",
    "\n",
    "class TerminatorMC:\n",
    "    def __init__(self):\n",
    "        pass\n",
    " \n",
    "    def GetTerminatorCondition(self):\n",
    "        pass\n",
    "    \n",
    "    def clone(self):\n",
    "        pass\n",
    "    \n",
    "    def __del__(self):\n",
    "        pass   \n",
    "\n",
    "class TerminatorRunTime(TerminatorMC):\n",
    "    def __init__(self,MaxTime_):\n",
    "        self.__MaxTime = MaxTime_\n",
    "        self.__TotalTime = 0\n",
    "        self.__InitTime = -1\n",
    "    \n",
    "    def GetTerminatorCondition(self):\n",
    "        if self.__InitTime == -1:\n",
    "            self.__InitTime = int(round(time.time() * 1000))\n",
    "            return False\n",
    "        else:\n",
    "            self.__TotalTime += int(round(time.time() * 1000)) - self.__InitTime\n",
    "            \n",
    "            if self.__TotalTime >= self.__MaxTime:\n",
    "                return True\n",
    "        \n",
    "            else:\n",
    "                self.__InitTime = int(round(time.time() * 1000))\n",
    "                return False\n",
    "        \n",
    "    def clone(self):\n",
    "        return deepcopy(self)\n",
    "    \n",
    "    def __del__(self):\n",
    "        del self"
   ]
  },
  {
   "cell_type": "code",
   "execution_count": 241,
   "metadata": {},
   "outputs": [],
   "source": [
    "def NewtonRaphson(Target, Start, Tolerance, Value, Derivative, terminator):\n",
    "    y = Value(Start)\n",
    "    x = Start\n",
    "    \n",
    "    while abs(y - Target) > Tolerance:\n",
    "        d = Derivative(x)\n",
    "        x += (Target - y)/d\n",
    "        y = Value(x)  \n",
    "        if terminator.GetTerminatorCondition() == True:\n",
    "            print('Terminator activated, exiting the solver')\n",
    "            break\n",
    "        else: \n",
    "            pass\n",
    "        \n",
    "        \n",
    "    return x"
   ]
  },
  {
   "cell_type": "code",
   "execution_count": 240,
   "metadata": {},
   "outputs": [
    {
     "name": "stdout",
     "output_type": "stream",
     "text": [
      "0.4100000000000002\n",
      "Wall time: 0 ns\n"
     ]
    }
   ],
   "source": [
    "%%time \n",
    "terminator = TerminatorRunTime(2)\n",
    "print(NewtonRaphson(4.37472312788827,0.5,0.00000000001,theCall.Price,theCall.Vega, terminator))"
   ]
  },
  {
   "cell_type": "code",
   "execution_count": 242,
   "metadata": {},
   "outputs": [
    {
     "name": "stdout",
     "output_type": "stream",
     "text": [
      "Terminator activated, exiting the solver\n",
      "0.40952006656124634\n",
      "Wall time: 15.6 ms\n"
     ]
    }
   ],
   "source": [
    "%%time \n",
    "terminator = TerminatorRunTime(0.00000000000000000001)\n",
    "print(NewtonRaphson(4.37,0.05,0.00000000000000000000000000000000000000000001,theCall.Price,theCall.Vega, terminator))"
   ]
  },
  {
   "cell_type": "markdown",
   "metadata": {},
   "source": [
    "**Exercise 9.2** Take your favourite numerical integration routine, e.g. the trapezium rule, and write a template routine to carry it out."
   ]
  },
  {
   "cell_type": "markdown",
   "metadata": {},
   "source": [
    "For this exercise we will code the trapezium rule. Find more information here: https://en.wikipedia.org/wiki/Trapezoidal_rule"
   ]
  },
  {
   "cell_type": "code",
   "execution_count": 12,
   "metadata": {},
   "outputs": [],
   "source": [
    "def TrapezodialRule(Start, Finish, Intervals, Value):\n",
    "    delta = (Finish - Start) / (Intervals)\n",
    "    x = np.arange(Start, Finish + delta, delta)\n",
    "    y = list(map(Value,x))\n",
    "    total = y.pop(0)\n",
    "    total += y.pop(-1)\n",
    "    total += 2*sum(y)\n",
    "    total *= delta/2\n",
    "    return total"
   ]
  },
  {
   "cell_type": "code",
   "execution_count": 13,
   "metadata": {},
   "outputs": [],
   "source": [
    "def quadratic(x):\n",
    "    return 3*(x**2) - 2*x + 1"
   ]
  },
  {
   "cell_type": "code",
   "execution_count": 14,
   "metadata": {},
   "outputs": [
    {
     "data": {
      "text/plain": [
       "105.00625000000002"
      ]
     },
     "execution_count": 14,
     "metadata": {},
     "output_type": "execute_result"
    }
   ],
   "source": [
    "TrapezodialRule(0,5,100,quadratic)"
   ]
  },
  {
   "cell_type": "markdown",
   "metadata": {},
   "source": [
    "We can also use a modification of the trapezodial rule without specifying how many intervals, just the Tolerance."
   ]
  },
  {
   "cell_type": "code",
   "execution_count": 15,
   "metadata": {},
   "outputs": [],
   "source": [
    "def TrapezodialRule(Start, Finish, Tolerance, Value):\n",
    "    prev = -1\n",
    "    Intervals = 2\n",
    "    total = 0\n",
    "    while abs(prev  - total) > Tolerance:\n",
    "        prev = total\n",
    "        delta = (Finish - Start) / (Intervals)\n",
    "        x = np.arange(Start, Finish + delta, delta)\n",
    "        y = list(map(Value,x))\n",
    "        total = y.pop(0)\n",
    "        total += y.pop(-1)\n",
    "        total += 2*sum(y)\n",
    "        total *= delta/2\n",
    "        Intervals*=2\n",
    "    return total"
   ]
  },
  {
   "cell_type": "code",
   "execution_count": 16,
   "metadata": {},
   "outputs": [
    {
     "data": {
      "text/plain": [
       "105.00000023283064"
      ]
     },
     "execution_count": 16,
     "metadata": {},
     "output_type": "execute_result"
    }
   ],
   "source": [
    "TrapezodialRule(0,5,0.000001,quadratic)"
   ]
  },
  {
   "cell_type": "markdown",
   "metadata": {},
   "source": [
    "We could even use the strategy pattern to define why the routine stops, using a terminator object that can handle different conditions to stop such as the Tolerance or the runtime."
   ]
  },
  {
   "cell_type": "markdown",
   "metadata": {},
   "source": [
    "**Exercise 9.3** Write a routine to price a vanilla option by MonteCarlo or trees where the pay-off is passed in as a template parameter expressed via a function object."
   ]
  },
  {
   "cell_type": "markdown",
   "metadata": {},
   "source": [
    "Since there are no templates in python (because it is not a typed language) it does not make sense to do this exercise."
   ]
  }
 ],
 "metadata": {
  "kernelspec": {
   "display_name": "Python 3",
   "language": "python",
   "name": "python3"
  },
  "language_info": {
   "codemirror_mode": {
    "name": "ipython",
    "version": 3
   },
   "file_extension": ".py",
   "mimetype": "text/x-python",
   "name": "python",
   "nbconvert_exporter": "python",
   "pygments_lexer": "ipython3",
   "version": "3.7.1"
  }
 },
 "nbformat": 4,
 "nbformat_minor": 2
}
