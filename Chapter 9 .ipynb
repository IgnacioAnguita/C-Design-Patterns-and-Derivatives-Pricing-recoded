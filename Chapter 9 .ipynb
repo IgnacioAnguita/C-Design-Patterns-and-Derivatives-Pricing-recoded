{
 "cells": [
  {
   "cell_type": "markdown",
   "metadata": {},
   "source": [
    "# Chapter 9 Solvers, templates, and implied volatilities"
   ]
  },
  {
   "cell_type": "code",
   "execution_count": 47,
   "metadata": {},
   "outputs": [],
   "source": [
    "import numpy as np\n",
    "import scipy.stats as si\n",
    "from math import exp,log,sqrt,pi"
   ]
  },
  {
   "cell_type": "code",
   "execution_count": 94,
   "metadata": {},
   "outputs": [],
   "source": [
    "class BSCall:\n",
    "    def __init__(self,r_,d_,T_,Spot_,Strike_):\n",
    "        self.__r = r_\n",
    "        self.__d = d_\n",
    "        self.__T = T_\n",
    "        self.__Spot = Spot_\n",
    "        self.__Strike = Strike_\n",
    "        \n",
    "    def __call__(self,Vol):\n",
    "        d1 = (log(self.__Spot / self.__Strike) + (self.__r + 0.5 * Vol ** 2) * self.__T) / (Vol * sqrt(self.__T))\n",
    "        d2 = (log(self.__Spot / self.__Strike) + (self.__r - 0.5 * Vol ** 2) * self.__T) / (Vol * sqrt(self.__T))\n",
    "    \n",
    "        return (self.__Spot * exp(-self.__d * self.__T) * si.norm.cdf(d1, 0.0, 1.0) - self.__Strike * \n",
    "                exp(-self.__r * self.__T) * si.norm.cdf(d2, 0.0, 1.0))"
   ]
  },
  {
   "cell_type": "code",
   "execution_count": 145,
   "metadata": {},
   "outputs": [
    {
     "data": {
      "text/plain": [
       "4.37472312788827"
      ]
     },
     "execution_count": 145,
     "metadata": {},
     "output_type": "execute_result"
    }
   ],
   "source": [
    "theCall = BSCall(0.05, 0, 0.25, 50, 50)\n",
    "theCall(0.41)"
   ]
  },
  {
   "cell_type": "code",
   "execution_count": 34,
   "metadata": {},
   "outputs": [],
   "source": [
    "def Bisection(Target,Low,High,Tolerance,TheFunction):\n",
    "    x = 0.5*(Low+High)\n",
    "    y = TheFunction(x)\n",
    "    \n",
    "    while abs(y-Target) > Tolerance:\n",
    "        if y < Target:\n",
    "            Low = x\n",
    "            \n",
    "        elif y > Target:\n",
    "            High = x\n",
    "            \n",
    "        x = 0.5*(Low + High)\n",
    "        \n",
    "        y = TheFunction(x)\n",
    "        \n",
    "        \n",
    "    return x"
   ]
  },
  {
   "cell_type": "code",
   "execution_count": 149,
   "metadata": {},
   "outputs": [
    {
     "data": {
      "text/plain": [
       "0.4100000000066939"
      ]
     },
     "execution_count": 149,
     "metadata": {},
     "output_type": "execute_result"
    }
   ],
   "source": [
    "theCall = BSCall(0.05, 0, 0.25, 50, 50)\n",
    "Bisection(4.37472312788827,0.01,0.6,0.0000000001,theCall)"
   ]
  },
  {
   "cell_type": "code",
   "execution_count": 151,
   "metadata": {},
   "outputs": [
    {
     "data": {
      "text/plain": [
       "4.3747231279541445"
      ]
     },
     "execution_count": 151,
     "metadata": {},
     "output_type": "execute_result"
    }
   ],
   "source": [
    "theCall(Bisection(4.37472312788827,0.01,0.6,0.0000000001,theCall))"
   ]
  },
  {
   "cell_type": "code",
   "execution_count": 117,
   "metadata": {},
   "outputs": [],
   "source": [
    "class BSCallTWO:\n",
    "    def __init__(self,r_,d_,T_,Spot_,Strike_):\n",
    "        self.__r = r_\n",
    "        self.__d = d_\n",
    "        self.__T = T_\n",
    "        self.__Spot = Spot_\n",
    "        self.__Strike = Strike_\n",
    "        \n",
    "    def Price(self,Vol):\n",
    "        d1 = (log(self.__Spot / self.__Strike) + (self.__r + 0.5 * Vol ** 2) * self.__T) / (Vol * sqrt(self.__T))\n",
    "        d2 = (log(self.__Spot / self.__Strike) + (self.__r - 0.5 * Vol ** 2) * self.__T) / (Vol * sqrt(self.__T))\n",
    "    \n",
    "        return (self.__Spot * exp(-self.__d * self.__T) * si.norm.cdf(d1, 0.0, 1.0) - self.__Strike * \n",
    "                exp(-self.__r * self.__T) * si.norm.cdf(d2, 0.0, 1.0))\n",
    "    \n",
    "    def Vega(self,Vol):\n",
    "        d1 = (log(self.__Spot / self.__Strike) + (self.__r + 0.5 * Vol ** 2) * self.__T) / (Vol * sqrt(self.__T))\n",
    "        return self.__Spot*exp(-0.5*d1*d1)*sqrt(self.__T)/sqrt(2*pi)\n",
    "        "
   ]
  },
  {
   "cell_type": "code",
   "execution_count": 142,
   "metadata": {},
   "outputs": [],
   "source": [
    "def NewtonRaphson(Target, Start, Tolerance, Value, Derivative):\n",
    "    y = Value(Start)\n",
    "    x = Start\n",
    "    \n",
    "    while abs(y - Target) > Tolerance:\n",
    "        d = Derivative(x)\n",
    "        x += (Target - y)/d\n",
    "        y = Value(x)  \n",
    "        \n",
    "        \n",
    "    return x"
   ]
  },
  {
   "cell_type": "code",
   "execution_count": 152,
   "metadata": {},
   "outputs": [
    {
     "data": {
      "text/plain": [
       "0.4100000000000002"
      ]
     },
     "execution_count": 152,
     "metadata": {},
     "output_type": "execute_result"
    }
   ],
   "source": [
    "theCall = BSCallTWO(0.05, 0, 0.25, 50, 50)\n",
    "NewtonRaphson(4.37472312788827,0.5,0.00000000001,theCall.Price,theCall.Vega)"
   ]
  },
  {
   "cell_type": "markdown",
   "metadata": {},
   "source": [
    "**Exercise 9.1** Modify the Newton-Raphson routine so that it does not endlessly loop if a root is not found."
   ]
  },
  {
   "cell_type": "markdown",
   "metadata": {},
   "source": [
    "For this exercise we will use the design pattern strategy, in order to externalize how part of one algorithm is implemented, using one of our terminator classes we developed previously in chapter 5."
   ]
  },
  {
   "cell_type": "code",
   "execution_count": null,
   "metadata": {},
   "outputs": [],
   "source": []
  },
  {
   "cell_type": "markdown",
   "metadata": {},
   "source": [
    "**Exercise 9.2** Take your favourite numerical integration routine, e.g. the trapezium rule, and write a template routine to carry it out."
   ]
  },
  {
   "cell_type": "markdown",
   "metadata": {},
   "source": [
    "For this exercise we will code the trapezium rule."
   ]
  },
  {
   "cell_type": "code",
   "execution_count": 202,
   "metadata": {},
   "outputs": [],
   "source": [
    "def TrapezodialRule(Start, Finish, Intervals, Value):\n",
    "    delta = (Finish - Start) / (Intervals)\n",
    "    x = np.arange(Start, Finish + delta, delta)\n",
    "    y = list(map(Value,x))\n",
    "    total = y.pop(0)\n",
    "    total += y.pop(-1)\n",
    "    total += 2*sum(y)\n",
    "    total *= delta/2\n",
    "    return total"
   ]
  },
  {
   "cell_type": "code",
   "execution_count": 207,
   "metadata": {},
   "outputs": [],
   "source": [
    "def quadratic(x):\n",
    "    return 3*(x**2) - 2*x + 1"
   ]
  },
  {
   "cell_type": "code",
   "execution_count": 203,
   "metadata": {},
   "outputs": [
    {
     "data": {
      "text/plain": [
       "105.00625000000002"
      ]
     },
     "execution_count": 203,
     "metadata": {},
     "output_type": "execute_result"
    }
   ],
   "source": [
    "TrapezodialRule(0,5,100,quadratic)"
   ]
  },
  {
   "cell_type": "markdown",
   "metadata": {},
   "source": [
    "We can also use a modification of the trapezodial rule without specifying how many intervals, just the Tolerance."
   ]
  },
  {
   "cell_type": "code",
   "execution_count": 226,
   "metadata": {},
   "outputs": [],
   "source": [
    "def TrapezodialRule(Start, Finish, Tolerance, Value):\n",
    "    prev = -1\n",
    "    Intervals = 2\n",
    "    total = 0\n",
    "    while abs(prev  - total) > Tolerance:\n",
    "        prev = total\n",
    "        delta = (Finish - Start) / (Intervals)\n",
    "        x = np.arange(Start, Finish + delta, delta)\n",
    "        y = list(map(Value,x))\n",
    "        total = y.pop(0)\n",
    "        total += y.pop(-1)\n",
    "        total += 2*sum(y)\n",
    "        total *= delta/2\n",
    "        Intervals*=2\n",
    "    return total"
   ]
  },
  {
   "cell_type": "code",
   "execution_count": 229,
   "metadata": {},
   "outputs": [
    {
     "data": {
      "text/plain": [
       "105.00000023283064"
      ]
     },
     "execution_count": 229,
     "metadata": {},
     "output_type": "execute_result"
    }
   ],
   "source": [
    "TrapezodialRule(0,5,0.000001,quadratic)"
   ]
  },
  {
   "cell_type": "markdown",
   "metadata": {},
   "source": [
    "We could even use the strategy pattern to define why the routine stops, using a terminator object that can handle different conditions to stop such as the Tolerance or the runtime."
   ]
  },
  {
   "cell_type": "markdown",
   "metadata": {},
   "source": [
    "**Exercise 9.3** Write a routine to price a vanilla option by MonteCarlo or trees where the pay-off is passed in as a template parameter expressed via a function object."
   ]
  },
  {
   "cell_type": "markdown",
   "metadata": {},
   "source": [
    "Since there are no templates in python (because it is not a typed language) it does not make sense to do this exercise."
   ]
  }
 ],
 "metadata": {
  "kernelspec": {
   "display_name": "Python 3",
   "language": "python",
   "name": "python3"
  },
  "language_info": {
   "codemirror_mode": {
    "name": "ipython",
    "version": 3
   },
   "file_extension": ".py",
   "mimetype": "text/x-python",
   "name": "python",
   "nbconvert_exporter": "python",
   "pygments_lexer": "ipython3",
   "version": "3.7.1"
  }
 },
 "nbformat": 4,
 "nbformat_minor": 2
}
