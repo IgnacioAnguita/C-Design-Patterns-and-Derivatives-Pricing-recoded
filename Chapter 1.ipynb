{
 "cells": [
  {
   "cell_type": "markdown",
   "metadata": {},
   "source": [
    "# Chapter 1"
   ]
  },
  {
   "cell_type": "markdown",
   "metadata": {},
   "source": [
    "This chapter focuses on explaining the basics of option pracing and how to do it using monte carlo techniques.\n",
    "\n",
    "Options are a type of financial instrument that rely on the price of another asset. These type of instruments are the so called derivatives. Derivatives price is not a straight forward number, they have to be calculated with a model that takes into consideration different variables.\n",
    "\n",
    "In this chapter the vanilla call option will be priced through a montecarlo simulation.\n",
    "\n",
    "The purpose of this notebook is to repeat the steps and the code developed in C++ Design Patterns and Derivatives Pricing, written by Mark S. Joshi, but in python, also solving the different exercises.\n",
    "\n",
    "If more information is required about what a call option is check https://en.wikipedia.org/wiki/Call_option\n",
    "\n",
    "Also an excellent book for learning the basics of derivatives pricing is Options, Futures, and Other Derivatives by  John C. Hull."
   ]
  },
  {
   "cell_type": "markdown",
   "metadata": {},
   "source": [
    "## A simple implementation of a Monte Carlo call option pricer"
   ]
  },
  {
   "cell_type": "markdown",
   "metadata": {},
   "source": [
    "### Imports"
   ]
  },
  {
   "cell_type": "code",
   "execution_count": 5,
   "metadata": {},
   "outputs": [],
   "source": [
    "from random import random\n",
    "from math import exp, sqrt, log"
   ]
  },
  {
   "cell_type": "markdown",
   "metadata": {},
   "source": [
    "### Basic functions"
   ]
  },
  {
   "cell_type": "code",
   "execution_count": 9,
   "metadata": {},
   "outputs": [],
   "source": [
    "def SimpleMonteCarlo1(Expiry,\n",
    "                     Strike,\n",
    "                     Spot,\n",
    "                     Vol,\n",
    "                     r,\n",
    "                     NumberOfPaths):\n",
    "    \n",
    "    variance = Vol*Vol*Expiry\n",
    "    rootVariance = sqrt(variance)\n",
    "    itoCorrection = -0.5*variance\n",
    "    \n",
    "    movedSpot = Spot*exp(r*Expiry + itoCorrection)\n",
    "    runningSum = 0\n",
    "    for i in range(NumberOfPaths):\n",
    "        thisGaussian = GetOneGaussianByBoxMuller()\n",
    "        thisSpot = movedSpot*exp(rootVariance*thisGaussian)\n",
    "        thisPayoff = thisSpot - Strike\n",
    "        if thisPayoff < 0 : \n",
    "            thisPayoff = 0\n",
    "        runningSum += thisPayoff\n",
    "    \n",
    "    mean = runningSum / NumberOfPaths\n",
    "    mean *= exp(-r*Expiry)\n",
    "    return mean            "
   ]
  },
  {
   "cell_type": "code",
   "execution_count": 6,
   "metadata": {},
   "outputs": [],
   "source": [
    "def GetOneGaussianBySummation():\n",
    "    result = 0\n",
    "    for j in range(12):\n",
    "        result += random()\n",
    "    result -= 6\n",
    "    return result\n",
    "\n",
    "def GetOneGaussianByBoxMuller():\n",
    "    sizeSquared = 1\n",
    "    while sizeSquared >= 1:\n",
    "        x = 2*random() - 1\n",
    "        y = 2*random() - 1\n",
    "        sizeSquared = x*x + y*y\n",
    "    \n",
    "    result = x*sqrt(-2*log(sizeSquared)/sizeSquared)\n",
    "    return result"
   ]
  },
  {
   "cell_type": "markdown",
   "metadata": {},
   "source": [
    "### Time to test\n",
    "\n",
    "In the original book there is another function (main), to introduce the data with the console, but since we are using a notebook it does not make sense to use this type of input function, instead we will call the function with some parameters and test it.\n",
    "\n",
    "The parameters that we will input are the ones in the example of calculating the price of a call option in Hull.\n",
    "\n",
    "They are the following:\n",
    "* Expiry: 6 months (0.5 years)\n",
    "* Strike: 40\n",
    "* Spot: 42\n",
    "* Vol: 0.2\n",
    "* r: 0.1\n",
    "\n",
    "The price of the call option in the example calculated with the Black Scholes model is 4.76.\n",
    "\n",
    "We will with different NumberOfPaths and see how accurate is the result."
   ]
  },
  {
   "cell_type": "code",
   "execution_count": 19,
   "metadata": {},
   "outputs": [
    {
     "name": "stdout",
     "output_type": "stream",
     "text": [
      "Call price: 4.87, for 1 paths\n",
      "Call price: 4.74, for 121 paths\n",
      "Call price: 4.52, for 441 paths\n",
      "Call price: 4.88, for 961 paths\n",
      "Call price: 4.85, for 1681 paths\n",
      "Call price: 4.77, for 2601 paths\n",
      "Call price: 4.79, for 3721 paths\n",
      "Call price: 4.68, for 5041 paths\n",
      "Call price: 4.73, for 6561 paths\n",
      "Call price: 4.76, for 8281 paths\n",
      "Call price: 4.65, for 10201 paths\n",
      "Call price: 4.67, for 12321 paths\n",
      "Call price: 4.82, for 14641 paths\n",
      "Call price: 4.69, for 17161 paths\n",
      "Call price: 4.76, for 19881 paths\n",
      "Call price: 4.73, for 22801 paths\n",
      "Call price: 4.81, for 25921 paths\n",
      "Call price: 4.79, for 29241 paths\n",
      "Call price: 4.77, for 32761 paths\n",
      "Call price: 4.76, for 36481 paths\n"
     ]
    }
   ],
   "source": [
    "for i in range(1,200,10):\n",
    "    i = i*i\n",
    "    callPrice = SimpleMonteCarlo1(0.5,\n",
    "                     40,\n",
    "                     42,\n",
    "                     0.2,\n",
    "                     0.1,\n",
    "                     i)\n",
    "    print(f'Call price: {round(callPrice,2)}, for {i} paths')"
   ]
  },
  {
   "cell_type": "markdown",
   "metadata": {},
   "source": [
    "As we can see our simple routine is able to provide a close price to the ideal price calculated by the Black Scholes Model"
   ]
  },
  {
   "cell_type": "markdown",
   "metadata": {},
   "source": [
    "### Critiques to the simple Monte Carlo routine"
   ]
  },
  {
   "cell_type": "markdown",
   "metadata": {},
   "source": [
    "Our routine can provide a decent estimation of the price, however it is slower than in C++ (Python is not a Ferrari... , specially when you do not use Numpy or Pandas for fast computing).\n",
    "\n",
    "Also other considerations can be done to our routine. The purpose of the code is to be reusable for other projects, if we want to implement similar projects using part our code will mean rewriting it. This is not optimal. Imagine our boss (or evil boss as mr Joshi says) now wants to do puts as well as calls, put the standard error, use anthithetic sampling, do a digital call pricer ...\n",
    "\n",
    "To add reusability to our code we will use classes and objects, that will allow us to implement new features without touching the existing code, while using most of what we have already built."
   ]
  },
  {
   "cell_type": "markdown",
   "metadata": {},
   "source": [
    "### Exercises"
   ]
  },
  {
   "cell_type": "markdown",
   "metadata": {},
   "source": [
    "**Exercise 1.1** Modify the program given to price puts."
   ]
  },
  {
   "cell_type": "markdown",
   "metadata": {},
   "source": [
    "Puts are the opposite to calls, so we have to midify only one line of the SimpleMonteCarlo 1, instead of *thisPayoff = thisSpot - Strike* we will put *thisPayoff = Strike - thisSpot* .\n",
    "\n",
    "We will use the previous example, the put price should be 0.81 (way lower than the call since it is out of the money)"
   ]
  },
  {
   "cell_type": "code",
   "execution_count": 48,
   "metadata": {},
   "outputs": [],
   "source": [
    "def SimpleMonteCarlo1(Expiry,\n",
    "                     Strike,\n",
    "                     Spot,\n",
    "                     Vol,\n",
    "                     r,\n",
    "                     NumberOfPaths):\n",
    "    \n",
    "    variance = Vol*Vol*Expiry\n",
    "    rootVariance = sqrt(variance)\n",
    "    itoCorrection = -0.5*variance\n",
    "    \n",
    "    movedSpot = Spot*exp(r*Expiry + itoCorrection)\n",
    "    runningSum = 0\n",
    "    for i in range(NumberOfPaths):\n",
    "        thisGaussian = GetOneGaussianByBoxMuller()\n",
    "        thisSpot = movedSpot*exp(rootVariance*thisGaussian)\n",
    "        thisPayoff = Strike - thisSpot\n",
    "        if thisPayoff < 0 : \n",
    "            thisPayoff = 0\n",
    "        runningSum += thisPayoff\n",
    "    \n",
    "    mean = runningSum / NumberOfPaths\n",
    "    mean *= exp(-r*Expiry)\n",
    "    return mean  "
   ]
  },
  {
   "cell_type": "code",
   "execution_count": 49,
   "metadata": {},
   "outputs": [
    {
     "name": "stdout",
     "output_type": "stream",
     "text": [
      "Put price: 2.25, for 1 paths\n",
      "Put price: 0.96, for 121 paths\n",
      "Put price: 0.62, for 441 paths\n",
      "Put price: 0.77, for 961 paths\n",
      "Put price: 0.86, for 1681 paths\n",
      "Put price: 0.78, for 2601 paths\n",
      "Put price: 0.78, for 3721 paths\n",
      "Put price: 0.8, for 5041 paths\n",
      "Put price: 0.82, for 6561 paths\n",
      "Put price: 0.8, for 8281 paths\n",
      "Put price: 0.82, for 10201 paths\n",
      "Put price: 0.79, for 12321 paths\n",
      "Put price: 0.82, for 14641 paths\n",
      "Put price: 0.82, for 17161 paths\n",
      "Put price: 0.83, for 19881 paths\n",
      "Put price: 0.8, for 22801 paths\n",
      "Put price: 0.83, for 25921 paths\n",
      "Put price: 0.82, for 29241 paths\n",
      "Put price: 0.81, for 32761 paths\n",
      "Put price: 0.8, for 36481 paths\n"
     ]
    }
   ],
   "source": [
    "for i in range(1,200,10):\n",
    "    i = i*i\n",
    "    callPrice = SimpleMonteCarlo1(0.5,\n",
    "                     40,\n",
    "                     42,\n",
    "                     0.2,\n",
    "                     0.1,\n",
    "                     i)\n",
    "    print(f'Put price: {round(callPrice,2)}, for {i} paths')"
   ]
  },
  {
   "cell_type": "markdown",
   "metadata": {},
   "source": [
    "Our code has given us a well approximation to the put option price we were expecting."
   ]
  },
  {
   "cell_type": "markdown",
   "metadata": {},
   "source": [
    "**Exercise 1.2** Modify the program given to price double digitals."
   ]
  },
  {
   "cell_type": "markdown",
   "metadata": {},
   "source": [
    "This part is a bit more tricky. A double digital option is an financial instrument that pays 1 if the underlaying asset price is between to strike prices, and 0 if not. We will modify the code to input 2 strike prices and then add the part of evaluating if it is between the two frontiers."
   ]
  },
  {
   "cell_type": "code",
   "execution_count": 43,
   "metadata": {},
   "outputs": [],
   "source": [
    "def SimpleMonteCarlo1(Expiry,\n",
    "                     StrikeUpper,\n",
    "                     StrikeLower,\n",
    "                     Spot,\n",
    "                     Vol,\n",
    "                     r,\n",
    "                     NumberOfPaths):\n",
    "    \n",
    "    variance = Vol*Vol*Expiry\n",
    "    rootVariance = sqrt(variance)\n",
    "    itoCorrection = -0.5*variance\n",
    "    \n",
    "    movedSpot = Spot*exp(r*Expiry + itoCorrection)\n",
    "    runningSum = 0\n",
    "    # We add this snippet in case the user has put in an incorrect order the Upper and Lower strike prices\n",
    "    if StrikeLower > StrikeUpper:\n",
    "        aux = StrikeLower\n",
    "        StrikeLower = StrikeUpper\n",
    "        StrikeUpper = aux\n",
    "        del aux\n",
    "    else:\n",
    "        pass\n",
    "    # End of the snippet code\n",
    "    for i in range(NumberOfPaths):\n",
    "        thisGaussian = GetOneGaussianByBoxMuller()\n",
    "        thisSpot = movedSpot*exp(rootVariance*thisGaussian)\n",
    "        if thisSpot <= StrikeUpper and thisSpot >= StrikeLower:\n",
    "            thisPayoff = 1            \n",
    "        else:\n",
    "            thisPayoff = 0        \n",
    "        runningSum += thisPayoff\n",
    "    \n",
    "    mean = runningSum / NumberOfPaths\n",
    "    mean *= exp(-r*Expiry)\n",
    "    return mean"
   ]
  },
  {
   "cell_type": "markdown",
   "metadata": {},
   "source": [
    "A good way to know if our code is correct is to check it with an example.\n",
    "\n",
    "That example has te following data:    \n",
    "* Number of Paths: 10000000\n",
    "* Underlying:      100\n",
    "* Lower Strike:    100\n",
    "* Upper Strike:    120\n",
    "* Risk-Free Rate:  0.05\n",
    "* Volatility:      0.2\n",
    "* Maturity:        1\n",
    "* Result Price:   0.32009\n",
    "\n",
    "The example comes from: https://www.quantstart.com/articles/Double-digital-option-pricing-with-C-via-Monte-Carlo-methods"
   ]
  },
  {
   "cell_type": "code",
   "execution_count": 46,
   "metadata": {},
   "outputs": [
    {
     "name": "stdout",
     "output_type": "stream",
     "text": [
      "Double digital option: 0.0, for 1 paths\n",
      "Double digital option: 0.32, for 121 paths\n",
      "Double digital option: 0.3, for 441 paths\n",
      "Double digital option: 0.32, for 961 paths\n",
      "Double digital option: 0.33, for 1681 paths\n",
      "Double digital option: 0.32, for 2601 paths\n",
      "Double digital option: 0.33, for 3721 paths\n",
      "Double digital option: 0.31, for 5041 paths\n",
      "Double digital option: 0.33, for 6561 paths\n",
      "Double digital option: 0.33, for 8281 paths\n",
      "Double digital option: 0.32, for 10201 paths\n",
      "Double digital option: 0.32, for 12321 paths\n",
      "Double digital option: 0.32, for 14641 paths\n",
      "Double digital option: 0.32, for 17161 paths\n",
      "Double digital option: 0.32, for 19881 paths\n",
      "Double digital option: 0.32, for 22801 paths\n",
      "Double digital option: 0.32, for 25921 paths\n",
      "Double digital option: 0.32, for 29241 paths\n",
      "Double digital option: 0.32, for 32761 paths\n",
      "Double digital option: 0.32, for 36481 paths\n"
     ]
    }
   ],
   "source": [
    "for i in range(1,200,10):\n",
    "    i = i*i\n",
    "    DoubleDigitalOption = SimpleMonteCarlo1(1,\n",
    "                     120,\n",
    "                     100,\n",
    "                     100,\n",
    "                     0.2,\n",
    "                     0.05,\n",
    "                     i)\n",
    "    print(f'Double digital option: {round(DoubleDigitalOption,2)}, for {i} paths')"
   ]
  },
  {
   "cell_type": "markdown",
   "metadata": {},
   "source": [
    "The result is very similar to the example so we can suppose it is good."
   ]
  },
  {
   "cell_type": "markdown",
   "metadata": {},
   "source": [
    "**Exercise 1.3** Change the program so that the user inputs a string which specifies the option pay-off."
   ]
  },
  {
   "cell_type": "markdown",
   "metadata": {},
   "source": [
    "We will suppose that we only have two options, call and put, we will also suppose that the user will only input 'call' or 'put' (to avoid the error handling part)."
   ]
  },
  {
   "cell_type": "code",
   "execution_count": 53,
   "metadata": {},
   "outputs": [],
   "source": [
    "def SimpleMonteCarlo1(Expiry,\n",
    "                     Strike,\n",
    "                     Spot,\n",
    "                     Vol,\n",
    "                     r,\n",
    "                     NumberOfPaths,\n",
    "                     OptionType):\n",
    "    \n",
    "    variance = Vol*Vol*Expiry\n",
    "    rootVariance = sqrt(variance)\n",
    "    itoCorrection = -0.5*variance\n",
    "    \n",
    "    movedSpot = Spot*exp(r*Expiry + itoCorrection)\n",
    "    runningSum = 0\n",
    "    if OptionType == 'call':\n",
    "        for i in range(NumberOfPaths):\n",
    "            thisGaussian = GetOneGaussianByBoxMuller()\n",
    "            thisSpot = movedSpot*exp(rootVariance*thisGaussian)\n",
    "            thisPayoff = thisSpot - Strike\n",
    "            if thisPayoff < 0 : \n",
    "                thisPayoff = 0\n",
    "            runningSum += thisPayoff\n",
    "            \n",
    "    elif OptionType == 'put':\n",
    "        for i in range(NumberOfPaths):\n",
    "            thisGaussian = GetOneGaussianByBoxMuller()\n",
    "            thisSpot = movedSpot*exp(rootVariance*thisGaussian)\n",
    "            thisPayoff = Strike - thisSpot\n",
    "            if thisPayoff < 0 : \n",
    "                thisPayoff = 0\n",
    "            runningSum += thisPayoff\n",
    "        \n",
    "    \n",
    "    mean = runningSum / NumberOfPaths\n",
    "    mean *= exp(-r*Expiry)\n",
    "    return mean    "
   ]
  },
  {
   "cell_type": "markdown",
   "metadata": {},
   "source": [
    "We add the if clause to be faster and avoid checking that condition inside the loop. Let´s try with some examples."
   ]
  },
  {
   "cell_type": "code",
   "execution_count": 55,
   "metadata": {},
   "outputs": [
    {
     "name": "stdout",
     "output_type": "stream",
     "text": [
      "Call price: 7.86, for 1 paths\n",
      "Call price: 4.91, for 121 paths\n",
      "Call price: 4.5, for 441 paths\n",
      "Call price: 4.66, for 961 paths\n",
      "Call price: 4.77, for 1681 paths\n",
      "Call price: 4.67, for 2601 paths\n",
      "Call price: 4.68, for 3721 paths\n",
      "Call price: 4.74, for 5041 paths\n",
      "Call price: 4.78, for 6561 paths\n",
      "Call price: 4.73, for 8281 paths\n",
      "Call price: 4.75, for 10201 paths\n",
      "Call price: 4.73, for 12321 paths\n",
      "Call price: 4.75, for 14641 paths\n",
      "Call price: 4.76, for 17161 paths\n",
      "Call price: 4.75, for 19881 paths\n",
      "Call price: 4.76, for 22801 paths\n",
      "Call price: 4.79, for 25921 paths\n",
      "Call price: 4.83, for 29241 paths\n",
      "Call price: 4.73, for 32761 paths\n",
      "Call price: 4.82, for 36481 paths\n"
     ]
    }
   ],
   "source": [
    "for i in range(1,200,10):\n",
    "    i = i*i\n",
    "    callPrice = SimpleMonteCarlo1(0.5,\n",
    "                     40,\n",
    "                     42,\n",
    "                     0.2,\n",
    "                     0.1,\n",
    "                     i,\n",
    "                     'call')\n",
    "    print(f'Call price: {round(callPrice,2)}, for {i} paths')"
   ]
  },
  {
   "cell_type": "code",
   "execution_count": 54,
   "metadata": {},
   "outputs": [
    {
     "name": "stdout",
     "output_type": "stream",
     "text": [
      "Put price: 0.0, for 1 paths\n",
      "Put price: 1.0, for 121 paths\n",
      "Put price: 0.88, for 441 paths\n",
      "Put price: 0.83, for 961 paths\n",
      "Put price: 0.84, for 1681 paths\n",
      "Put price: 0.81, for 2601 paths\n",
      "Put price: 0.79, for 3721 paths\n",
      "Put price: 0.77, for 5041 paths\n",
      "Put price: 0.82, for 6561 paths\n",
      "Put price: 0.86, for 8281 paths\n",
      "Put price: 0.82, for 10201 paths\n",
      "Put price: 0.81, for 12321 paths\n",
      "Put price: 0.8, for 14641 paths\n",
      "Put price: 0.8, for 17161 paths\n",
      "Put price: 0.82, for 19881 paths\n",
      "Put price: 0.81, for 22801 paths\n",
      "Put price: 0.81, for 25921 paths\n",
      "Put price: 0.8, for 29241 paths\n",
      "Put price: 0.81, for 32761 paths\n",
      "Put price: 0.82, for 36481 paths\n"
     ]
    }
   ],
   "source": [
    "for i in range(1,200,10):\n",
    "    i = i*i\n",
    "    callPrice = SimpleMonteCarlo1(0.5,\n",
    "                     40,\n",
    "                     42,\n",
    "                     0.2,\n",
    "                     0.1,\n",
    "                     i,\n",
    "                     'put')\n",
    "    print(f'Put price: {round(callPrice,2)}, for {i} paths')"
   ]
  },
  {
   "cell_type": "markdown",
   "metadata": {},
   "source": [
    "**Exercise 1.4** Identify as many classes as you can in the evil boss's list of demands."
   ]
  },
  {
   "cell_type": "markdown",
   "metadata": {},
   "source": [
    "Some examples would be the parent class PayOff the subclasses CallPayOff, PutPayOff ..."
   ]
  }
 ],
 "metadata": {
  "kernelspec": {
   "display_name": "Python 3",
   "language": "python",
   "name": "python3"
  },
  "language_info": {
   "codemirror_mode": {
    "name": "ipython",
    "version": 3
   },
   "file_extension": ".py",
   "mimetype": "text/x-python",
   "name": "python",
   "nbconvert_exporter": "python",
   "pygments_lexer": "ipython3",
   "version": "3.7.1"
  }
 },
 "nbformat": 4,
 "nbformat_minor": 2
}
