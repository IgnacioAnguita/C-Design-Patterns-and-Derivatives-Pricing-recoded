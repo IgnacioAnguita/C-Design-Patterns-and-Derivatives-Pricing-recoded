{
 "cells": [
  {
   "cell_type": "markdown",
   "metadata": {},
   "source": [
    "# Chapter 11 Make it faster, Make it pythonic"
   ]
  },
  {
   "cell_type": "markdown",
   "metadata": {},
   "source": [
    "Right now our codes work however they do not run very fast. Although the book originally ended on chapter 10 (with extra chapters for certain details such as other design patterns or the situation of C++ quantitative finance in 2008) I have added a new chapter to illustrate how we can put everything together but in a pythonic way, make it run faster.\n",
    "\n",
    "The first step will be to modify the  MonteCarlo Routine to use vectorized functions with numpy, that work faster."
   ]
  },
  {
   "cell_type": "markdown",
   "metadata": {},
   "source": [
    "## Pandas Convergence table"
   ]
  },
  {
   "cell_type": "markdown",
   "metadata": {},
   "source": [
    "Instead of creating our statistics gatherer and a convergence table we can calculate each statistic using a vectorized operation from numpy and storing the result in pandas dataframe (with the number of paths). If we want to add more statistics we can create a super gatherer that calls other gatherers and stores all the results in a pandas dataframe, joining each dataframe with the number of paths as a key."
   ]
  },
  {
   "cell_type": "code",
   "execution_count": 42,
   "metadata": {},
   "outputs": [],
   "source": [
    "from copy import deepcopy\n",
    "from math import exp, sqrt, log\n",
    "import pandas as pd\n",
    "\n",
    "class StatisticsMC:\n",
    "    def __init__(self):\n",
    "        pass\n",
    "    \n",
    "    def GetResultsSoFar(self):\n",
    "        pass\n",
    "    \n",
    "    def DumpOneResult(self,result,paths):\n",
    "        pass        \n",
    "  \n",
    "    def clone(self):\n",
    "        pass\n",
    "    \n",
    "    def __del__(self):\n",
    "        pass   \n",
    "    \n",
    "class StatisticsMeanConvergence(StatisticsMC):\n",
    "    def __init__(self):\n",
    "        self.__DataFrame = pd.DataFrame(columns = ['Number Of Paths', 'Mean'])\n",
    "        \n",
    "    def GetResultsSoFar(self): \n",
    "        return self.__DataFrame.copy()\n",
    "    \n",
    "    def DumpOneResult(self,result,paths):\n",
    "        mean = np.mean(result)\n",
    "        self.__DataFrame = self.__DataFrame.append({'Number Of Paths':paths, 'Mean':mean},ignore_index = True)\n",
    "            \n",
    "        \n",
    "    def clone(self):\n",
    "        return deepcopy(self)\n",
    "    \n",
    "    def __del__(self):\n",
    "        del self"
   ]
  },
  {
   "cell_type": "markdown",
   "metadata": {},
   "source": [
    "## Fast MonteCarlo"
   ]
  },
  {
   "cell_type": "code",
   "execution_count": 23,
   "metadata": {},
   "outputs": [],
   "source": [
    "import numpy as np"
   ]
  },
  {
   "cell_type": "markdown",
   "metadata": {},
   "source": [
    "We modify a little bit the Generator, so we can also ask for numpy random vectors."
   ]
  },
  {
   "cell_type": "code",
   "execution_count": 24,
   "metadata": {},
   "outputs": [],
   "source": [
    "class Generator:\n",
    "    def __init__(self,Dimensionality_ = 1):\n",
    "        self.__Dimensionality = Dimensionality_\n",
    "        \n",
    "    def ResetDimensionality(self,Dimensionality_):\n",
    "        self.__Dimensionality = Dimensionality_\n",
    "    \n",
    "    def GetGaussians(self):\n",
    "        Variates = np.random.normal(size = self.__Dimensionality)\n",
    "        return Variates\n",
    "    \n",
    "    def GetNGaussians(self,N):\n",
    "        Variates = np.random.normal(size = N)\n",
    "        return Variates"
   ]
  },
  {
   "cell_type": "markdown",
   "metadata": {},
   "source": [
    "Now we add terminators that examine the sample."
   ]
  },
  {
   "cell_type": "code",
   "execution_count": 25,
   "metadata": {},
   "outputs": [],
   "source": [
    "import time\n",
    "\n",
    "class TerminatorMC:\n",
    "    def __init__(self):\n",
    "        pass\n",
    " \n",
    "    def GetTerminatorCondition(self,*args,**kwargs):\n",
    "        pass\n",
    "    \n",
    "    def clone(self):\n",
    "        pass\n",
    "    \n",
    "    def __del__(self):\n",
    "        pass   \n",
    "\n",
    "class TerminatorRunTime(TerminatorMC):\n",
    "    def __init__(self,MaxTime_):\n",
    "        self.__MaxTime = MaxTime_\n",
    "        self.__TotalTime = 0\n",
    "        self.__InitTime = -1\n",
    "    \n",
    "    def GetTerminatorCondition(self,*args,**kwargs):\n",
    "        if self.__InitTime == -1:\n",
    "            self.__InitTime = int(round(time.time() * 1000))\n",
    "            return False\n",
    "        else:\n",
    "            self.__TotalTime += int(round(time.time() * 1000)) - self.__InitTime\n",
    "            \n",
    "            if self.__TotalTime >= self.__MaxTime:\n",
    "                return True\n",
    "        \n",
    "            else:\n",
    "                self.__InitTime = int(round(time.time() * 1000))\n",
    "                return False\n",
    "        \n",
    "    def clone(self):\n",
    "        return deepcopy(self)\n",
    "    \n",
    "    def __del__(self):\n",
    "        del self\n",
    "        \n",
    "class TerminatorMaxPaths(TerminatorMC):\n",
    "    def __init__(self, MaxPaths_):\n",
    "        self.__MathPaths = MaxPaths_\n",
    " \n",
    "    def GetTerminatorCondition(self,PayOffs,*args,**kwargs):\n",
    "        paths = len(PayOffs)\n",
    "        if paths > self.__MathPaths:\n",
    "            return True\n",
    "        else:\n",
    "            return False\n",
    "    \n",
    "    def clone(self):\n",
    "        return deepcopy(self)\n",
    "    \n",
    "    def __del__(self):\n",
    "        del self  "
   ]
  },
  {
   "cell_type": "markdown",
   "metadata": {},
   "source": [
    "Now the main MonteCarlo Routine with vectorized operations and numpy arrays."
   ]
  },
  {
   "cell_type": "code",
   "execution_count": 70,
   "metadata": {},
   "outputs": [],
   "source": [
    "def SimpleMonteCarlo(TheOption,\n",
    "                     Spot,\n",
    "                     Vol,\n",
    "                     r,\n",
    "                     NumberOfPaths,\n",
    "                     gatherer,\n",
    "                     generator,\n",
    "                    terminator):\n",
    "    \n",
    "    Expiry = TheOption.GetExpiry()    \n",
    "    variance = Vol.IntegralSquare(0,Expiry)\n",
    "    rootVariance = sqrt(variance)\n",
    "    itoCorrection = -0.5*variance\n",
    "    \n",
    "    movedSpot = Spot*exp(r.Integral(0,Expiry) + itoCorrection)\n",
    "    discounting = exp(-r.Integral(0,Expiry))\n",
    "    vectorized_OptionPayOff = np.vectorize(TheOption.OptionPayOff)\n",
    "    paths = 2\n",
    "    thisPayoffs = np.empty(shape = 1)\n",
    "    thisPayoffs = thisPayoffs[np.logical_not(np.isnan(thisPayoffs))]\n",
    "    while True:        \n",
    "        paths = paths**2\n",
    "        if paths > NumberOfPaths:\n",
    "            paths = NumberOfPaths\n",
    "        else:\n",
    "            pass\n",
    "        theseGaussians = generator.GetNGaussians(paths)        \n",
    "        theseSpot = movedSpot*np.exp(rootVariance*theseGaussians)        \n",
    "        NewPayoffs = vectorized_OptionPayOff(theseSpot)       \n",
    "        thisPayoffs = np.concatenate((thisPayoffs,NewPayoffs))\n",
    "        gatherer.DumpOneResult(thisPayoffs*discounting,paths)        \n",
    "        if terminator.GetTerminatorCondition(thisPayoffs) == True:\n",
    "            print('Terminator activated, exiting the solver')\n",
    "            break\n",
    "        else: \n",
    "            pass"
   ]
  },
  {
   "cell_type": "markdown",
   "metadata": {},
   "source": [
    "Some PayOffs."
   ]
  },
  {
   "cell_type": "code",
   "execution_count": 27,
   "metadata": {},
   "outputs": [],
   "source": [
    "class PayOff:\n",
    "    def __init__(self):\n",
    "        pass\n",
    "    \n",
    "    def __call__(self,Spot):\n",
    "        pass    \n",
    "\n",
    "class PayOffBridge:        \n",
    "    def __del__(self):\n",
    "        del self\n",
    "        \n",
    "    def copy(self,InnerPayOff):\n",
    "        from copy import deepcopy\n",
    "        self = deepcopy(InnerPayOff)\n",
    "        \n",
    "class PayOffCall(PayOff,PayOffBridge):\n",
    "    def __init__(self,Strike_):\n",
    "        self.__Strike = Strike_\n",
    "        \n",
    "    def __call__(self,Spot):\n",
    "        return max(Spot - self.__Strike,0)\n",
    "    \n",
    "class VanillaOption:\n",
    "    def __init__(self, ThePayOff_, Expiry_):\n",
    "        self.__ThePayOff = ThePayOff_\n",
    "        self.__Expiry = Expiry_\n",
    "        \n",
    "    def GetExpiry(self):\n",
    "        return self.__Expiry\n",
    "    \n",
    "    def OptionPayOff(self, Spot):\n",
    "        return self.__ThePayOff(Spot)"
   ]
  },
  {
   "cell_type": "markdown",
   "metadata": {},
   "source": [
    "The Parameters classes."
   ]
  },
  {
   "cell_type": "code",
   "execution_count": 32,
   "metadata": {},
   "outputs": [],
   "source": [
    "class ParametersInner:\n",
    "    def __init__(self):\n",
    "        pass\n",
    "    \n",
    "    def Integral(self,time1, time2):\n",
    "        pass\n",
    "    \n",
    "    def IntegralSquare(self,time1,time2):\n",
    "        pass\n",
    "\n",
    "class Parameters:    \n",
    "    def RootMeanSquare(self,time1,time2):\n",
    "        total = self.Integral(time1,time2)\n",
    "        return total/(time2-time1)\n",
    "    \n",
    "    def Mean(self,time1, time2):\n",
    "        total = self.Integral(time1,time2)\n",
    "        return total/(time2-time1)\n",
    "    \n",
    "    def copy(self,original):\n",
    "        from copy import deepcopy\n",
    "        self = deepcopy(InnerPayOff) \n",
    "        \n",
    "    def __del__(self):\n",
    "        del self    \n",
    "        \n",
    "class ParametersConstant(ParametersInner,Parameters):\n",
    "    def __init__(self,constant):\n",
    "        self.__Constant = constant\n",
    "        self.__ConstantSquare = self.__Constant*self.__Constant\n",
    "    \n",
    "    def Integral(self, time1, time2):\n",
    "        return (time2 - time1)*self.__Constant\n",
    "    \n",
    "    def IntegralSquare(self, time1, time2):\n",
    "        return (time2 - time1)*self.__ConstantSquare  "
   ]
  },
  {
   "cell_type": "markdown",
   "metadata": {},
   "source": [
    "The Factory."
   ]
  },
  {
   "cell_type": "code",
   "execution_count": 28,
   "metadata": {},
   "outputs": [],
   "source": [
    "class PayOffFactory:\n",
    "    def __init__(self):\n",
    "        self.__TheCreatorFunctions = {}        \n",
    "    \n",
    "    def __del__(self):\n",
    "        del self\n",
    "    \n",
    "    def RegisterPayOff(self, PayOffId, CreatorFunction):\n",
    "        self.__TheCreatorFunctions[PayOffId] = CreatorFunction\n",
    "        \n",
    "    def CreatePayOff(self, PayOffId, *args, **kwargs):\n",
    "        if PayOffId not in self.__TheCreatorFunctions.keys():\n",
    "            print(f'{PayOffId} is an unknown payoff')\n",
    "            return None\n",
    "        else:\n",
    "            return self.__TheCreatorFunctions[PayOffId](*args, **kwargs)   "
   ]
  },
  {
   "cell_type": "code",
   "execution_count": 29,
   "metadata": {},
   "outputs": [],
   "source": [
    "global thePayOffFactory  # We just the global keyword to be accesible from anywhere\n",
    "thePayOffFactory  = PayOffFactory()\n",
    "thePayOffFactory.RegisterPayOff(\"call\",PayOffCall)"
   ]
  },
  {
   "cell_type": "markdown",
   "metadata": {},
   "source": [
    "The Variables."
   ]
  },
  {
   "cell_type": "code",
   "execution_count": 96,
   "metadata": {},
   "outputs": [],
   "source": [
    "Strike = 40\n",
    "Spot = 42\n",
    "name = \"call\"\n",
    "r_ = 0.1\n",
    "Vol_ = 0.2\n",
    "NumberOfPaths = 2000000\n",
    "Maturity = 0.5"
   ]
  },
  {
   "cell_type": "markdown",
   "metadata": {},
   "source": [
    "We will see how fast this new MonteCarlo runs."
   ]
  },
  {
   "cell_type": "code",
   "execution_count": 97,
   "metadata": {},
   "outputs": [
    {
     "name": "stdout",
     "output_type": "stream",
     "text": [
      "Terminator activated, exiting the solver\n",
      "   Number Of Paths      Mean\n",
      "0              4.0  4.176246\n",
      "1             16.0  7.242969\n",
      "2            256.0  4.240162\n",
      "3          65536.0  4.726288\n",
      "4        2000000.0  4.760205\n",
      "Wall time: 2.16 s\n"
     ]
    }
   ],
   "source": [
    "%%time\n",
    "gatherer = StatisticsMeanConvergence()\n",
    "generator = Generator()\n",
    "thePayOFF = thePayOffFactory.CreatePayOff(name,Strike)\n",
    "terminator = TerminatorMaxPaths(NumberOfPaths)\n",
    "if thePayOFF != None:    \n",
    "    TheOption = VanillaOption(thePayOFF,Maturity)\n",
    "    r = ParametersConstant(r_)\n",
    "    Vol = ParametersConstant(Vol_)\n",
    "    SimpleMonteCarlo(TheOption,Spot,Vol,r,NumberOfPaths, gatherer, generator, terminator)\n",
    "    results = gatherer.GetResultsSoFar()\n",
    "    print(results.head(5))    \n",
    "else:\n",
    "    print('Incorrect PayOff')"
   ]
  },
  {
   "cell_type": "markdown",
   "metadata": {},
   "source": [
    "Now we will compare it with the original routine."
   ]
  },
  {
   "cell_type": "code",
   "execution_count": 84,
   "metadata": {},
   "outputs": [],
   "source": [
    "from random import random\n",
    "def SimpleMonteCarlo1(Expiry,\n",
    "                     Strike,\n",
    "                     Spot,\n",
    "                     Vol,\n",
    "                     r,\n",
    "                     NumberOfPaths):\n",
    "    \n",
    "    variance = Vol*Vol*Expiry\n",
    "    rootVariance = sqrt(variance)\n",
    "    itoCorrection = -0.5*variance\n",
    "    \n",
    "    movedSpot = Spot*exp(r*Expiry + itoCorrection)\n",
    "    runningSum = 0\n",
    "    for i in range(NumberOfPaths):\n",
    "        thisGaussian = GetOneGaussianByBoxMuller()\n",
    "        thisSpot = movedSpot*exp(rootVariance*thisGaussian)\n",
    "        thisPayoff = thisSpot - Strike\n",
    "        if thisPayoff < 0 : \n",
    "            thisPayoff = 0\n",
    "        runningSum += thisPayoff\n",
    "    \n",
    "    mean = runningSum / NumberOfPaths\n",
    "    mean *= exp(-r*Expiry)\n",
    "    return mean            \n",
    "\n",
    "def GetOneGaussianBySummation():\n",
    "    result = 0\n",
    "    for j in range(12):\n",
    "        result += random()\n",
    "    result -= 6\n",
    "    return result\n",
    "\n",
    "def GetOneGaussianByBoxMuller():\n",
    "    sizeSquared = 1\n",
    "    while sizeSquared >= 1:\n",
    "        x = 2*random() - 1\n",
    "        y = 2*random() - 1\n",
    "        sizeSquared = x*x + y*y\n",
    "    \n",
    "    result = x*sqrt(-2*log(sizeSquared)/sizeSquared)\n",
    "    return result\n"
   ]
  },
  {
   "cell_type": "code",
   "execution_count": 98,
   "metadata": {},
   "outputs": [
    {
     "name": "stdout",
     "output_type": "stream",
     "text": [
      "Call price: 4.77, for 2000000 paths\n",
      "Wall time: 4.3 s\n"
     ]
    }
   ],
   "source": [
    "%%time\n",
    "NumberOfPaths = 2000000\n",
    "callPrice = SimpleMonteCarlo1(0.5,\n",
    "                     40,\n",
    "                     42,\n",
    "                     0.2,\n",
    "                     0.1,\n",
    "                     NumberOfPaths)\n",
    "print(f'Call price: {round(callPrice,2)}, for {NumberOfPaths} paths')"
   ]
  },
  {
   "cell_type": "markdown",
   "metadata": {},
   "source": [
    "As we can see our routine goes twice as fast as the original, being much more robust and easily configurable thanks to design patterns. We have finally achieved our objective: a fast, efficient and easy to modify MonteCarlo Simulatior for many different options."
   ]
  }
 ],
 "metadata": {
  "kernelspec": {
   "display_name": "Python 3",
   "language": "python",
   "name": "python3"
  },
  "language_info": {
   "codemirror_mode": {
    "name": "ipython",
    "version": 3
   },
   "file_extension": ".py",
   "mimetype": "text/x-python",
   "name": "python",
   "nbconvert_exporter": "python",
   "pygments_lexer": "ipython3",
   "version": "3.7.1"
  }
 },
 "nbformat": 4,
 "nbformat_minor": 2
}
