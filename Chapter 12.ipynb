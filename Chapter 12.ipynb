{
 "cells": [
  {
   "cell_type": "markdown",
   "metadata": {},
   "source": [
    "# Chapter 12 Do not fall into the oblivion\n",
    "\n",
    "To be able to restore and run multiple simulations the assets have to be saved somewhere. To choices arises. \n",
    "* The first one is to serialize the objects and save them as binary files.\n",
    "* The second one is to save the information in a noSQL database.\n",
    "\n",
    "Both options will be covered in the following lines."
   ]
  },
  {
   "cell_type": "markdown",
   "metadata": {},
   "source": [
    "## Serializing the objects\n",
    "\n",
    "To directly save and load the objects we can use the module pickle."
   ]
  },
  {
   "cell_type": "markdown",
   "metadata": {},
   "source": [
    "First we will put all the code we need to create payoffs and options, as well as our factory class."
   ]
  },
  {
   "cell_type": "code",
   "execution_count": 2,
   "metadata": {},
   "outputs": [],
   "source": [
    "class PayOff:\n",
    "    def __init__(self):\n",
    "        pass\n",
    "    \n",
    "    def __call__(self,Spot):\n",
    "        pass    \n",
    "\n",
    "class PayOffBridge:        \n",
    "    def __del__(self):\n",
    "        del self\n",
    "        \n",
    "    def copy(self,InnerPayOff):\n",
    "        from copy import deepcopy\n",
    "        self = deepcopy(InnerPayOff)\n",
    "        \n",
    "class PayOffCall(PayOff,PayOffBridge):\n",
    "    def __init__(self,Strike_):\n",
    "        self.__Strike = Strike_\n",
    "        \n",
    "    def __call__(self,Spot):\n",
    "        return max(Spot - self.__Strike,0)\n",
    "    \n",
    "class VanillaOption:\n",
    "    def __init__(self, ThePayOff_, Expiry_):\n",
    "        self.__ThePayOff = ThePayOff_\n",
    "        self.__Expiry = Expiry_\n",
    "        \n",
    "    def GetExpiry(self):\n",
    "        return self.__Expiry\n",
    "    \n",
    "    def OptionPayOff(self, Spot):\n",
    "        return self.__ThePayOff(Spot)"
   ]
  },
  {
   "cell_type": "code",
   "execution_count": 3,
   "metadata": {},
   "outputs": [],
   "source": [
    "class PayOffFactory:\n",
    "    def __init__(self):\n",
    "        self.__TheCreatorFunctions = {}        \n",
    "    \n",
    "    def __del__(self):\n",
    "        del self\n",
    "    \n",
    "    def RegisterPayOff(self, PayOffId, CreatorFunction):\n",
    "        self.__TheCreatorFunctions[PayOffId] = CreatorFunction\n",
    "        \n",
    "    def CreatePayOff(self, PayOffId, *args, **kwargs):\n",
    "        if PayOffId not in self.__TheCreatorFunctions.keys():\n",
    "            print(f'{PayOffId} is an unknown payoff')\n",
    "            return None\n",
    "        else:\n",
    "            return self.__TheCreatorFunctions[PayOffId](*args, **kwargs)   "
   ]
  },
  {
   "cell_type": "markdown",
   "metadata": {},
   "source": [
    "We will create our option."
   ]
  },
  {
   "cell_type": "code",
   "execution_count": 38,
   "metadata": {},
   "outputs": [],
   "source": [
    "global thePayOffFactory  # We just the global keyword to be accesible from anywhere\n",
    "thePayOffFactory  = PayOffFactory()\n",
    "thePayOffFactory.RegisterPayOff(\"call\",PayOffCall)\n",
    "\n",
    "name = \"call\"\n",
    "Maturity = 0.5\n",
    "Strike = 40\n",
    "\n",
    "thePayOFF = thePayOffFactory.CreatePayOff(name,Strike)\n",
    "TheOption = VanillaOption(thePayOFF,Maturity)"
   ]
  },
  {
   "cell_type": "markdown",
   "metadata": {},
   "source": [
    "We save our option."
   ]
  },
  {
   "cell_type": "code",
   "execution_count": 5,
   "metadata": {},
   "outputs": [],
   "source": [
    "import pickle\n",
    " \n",
    "with open('TheOption', 'wb') as TheOption_file:\n",
    "    pickle.dump(TheOption, TheOption_file)"
   ]
  },
  {
   "cell_type": "markdown",
   "metadata": {},
   "source": [
    "We eliminate it."
   ]
  },
  {
   "cell_type": "code",
   "execution_count": 6,
   "metadata": {},
   "outputs": [],
   "source": [
    "del TheOption"
   ]
  },
  {
   "cell_type": "markdown",
   "metadata": {},
   "source": [
    "We load it again."
   ]
  },
  {
   "cell_type": "code",
   "execution_count": 8,
   "metadata": {},
   "outputs": [],
   "source": [
    "with open('TheOption', 'rb') as TheOption_file:\n",
    "    TheOption = pickle.load(TheOption_file)"
   ]
  },
  {
   "cell_type": "code",
   "execution_count": 18,
   "metadata": {},
   "outputs": [
    {
     "name": "stdout",
     "output_type": "stream",
     "text": [
      "<__main__.PayOffCall object at 0x000002198093D5C0>\n"
     ]
    }
   ],
   "source": [
    "print(thePayOFF)"
   ]
  },
  {
   "cell_type": "markdown",
   "metadata": {},
   "source": [
    "With just 2 lines of code we can save and load a python object without any difficulty. We can create a saver class to input to other routines just like the MonteCarlo. Other possibilities include to create decorator functions for our classes to be able to save them without any problem."
   ]
  },
  {
   "cell_type": "markdown",
   "metadata": {},
   "source": [
    "## Using a noSQL DataBase\n",
    "\n",
    "The problem gets tricky when we have to save tens of thousands of assets and we want to be able to move them quickly. Whereas the first alternative is easy to implement and do not require touching anything of the previous code, with this alternative we have to rewrite a good part of the code.\n",
    "\n",
    "With the previous approach we do not need a factory, however with the following approach we will need a factory to construct the assets and the payoffs, since we are only going to store them as a JSON file into a MongoDB."
   ]
  },
  {
   "cell_type": "markdown",
   "metadata": {},
   "source": [
    "First we will rewritte the Payoffs class and the VanillaOption to get the atributes. Python has a default method for accessing the data members of one class via the __ dict __ attribute. However the output of that is not the optimal for our case so we will writte our own GetDict method that returns all the info as a dictionary."
   ]
  },
  {
   "cell_type": "code",
   "execution_count": 90,
   "metadata": {},
   "outputs": [],
   "source": [
    "class PayOffCall(PayOff,PayOffBridge):\n",
    "    def __init__(self,Strike_):\n",
    "        self.__Strike = Strike_\n",
    "        \n",
    "    def __call__(self,Spot):\n",
    "        return max(Spot - self.__Strike,0)\n",
    "    \n",
    "    def GetDict(self):\n",
    "        return {'Strike': self.__Strike}\n",
    "    \n",
    "class VanillaOption:\n",
    "    def __init__(self, ThePayOff_, Expiry_):\n",
    "        self.__ThePayOff = ThePayOff_\n",
    "        self.__Expiry = Expiry_\n",
    "        \n",
    "    def GetExpiry(self):\n",
    "        return self.__Expiry\n",
    "    \n",
    "    def OptionPayOff(self, Spot):\n",
    "        return self.__ThePayOff(Spot)\n",
    "    \n",
    "    def GetDict(self):\n",
    "        return {'Expiry': self.__Expiry, 'name':'PayOffCall', 'PayOffParameters':self.__ThePayOff.GetDict()}        "
   ]
  },
  {
   "cell_type": "code",
   "execution_count": 91,
   "metadata": {},
   "outputs": [
    {
     "name": "stdout",
     "output_type": "stream",
     "text": [
      "{'Expiry': 0.5, 'name': 'PayOffCall', 'PayOffParameters': {'Strike': 40}}\n"
     ]
    }
   ],
   "source": [
    "global thePayOffFactory  # We just the global keyword to be accesible from anywhere\n",
    "thePayOffFactory  = PayOffFactory()\n",
    "thePayOffFactory.RegisterPayOff(\"PayOffCall\",PayOffCall)\n",
    "\n",
    "thePayOFF = thePayOffFactory.CreatePayOff(\"PayOffCall\",Strike)\n",
    "TheOption = VanillaOption(thePayOFF,Maturity)\n",
    "print(TheOption.GetDict())"
   ]
  },
  {
   "cell_type": "markdown",
   "metadata": {},
   "source": [
    "Now we will save our data into a MongoDB."
   ]
  },
  {
   "cell_type": "code",
   "execution_count": 110,
   "metadata": {},
   "outputs": [
    {
     "name": "stdout",
     "output_type": "stream",
     "text": [
      "One Option: 5ce43e01f704639cb20a848d\n"
     ]
    }
   ],
   "source": [
    "from pymongo import MongoClient\n",
    "client = MongoClient('localhost', 27017)\n",
    "db = client['MyDB']\n",
    "Options = db.Options\n",
    "data = TheOption.GetDict()\n",
    "result = Options.insert_one(data)\n",
    "print('One Option: {0}'.format(result.inserted_id))"
   ]
  },
  {
   "cell_type": "markdown",
   "metadata": {},
   "source": [
    "Our data has been saved without any problem and the ID of that option is showed next to One post: .\n",
    "    \n",
    "Now we will retrieve the information from the database."
   ]
  },
  {
   "cell_type": "code",
   "execution_count": 123,
   "metadata": {},
   "outputs": [
    {
     "name": "stdout",
     "output_type": "stream",
     "text": [
      "{'_id': ObjectId('5ce43d09f704639cb20a847f'), 'Expiry': 0.5, 'name': 'PayOffCall', 'PayOffParameters': {'Strike': 40}}\n"
     ]
    }
   ],
   "source": [
    "MyOption = Options.find_one({'Expiry': 0.5})\n",
    "print(MyOption)"
   ]
  },
  {
   "cell_type": "markdown",
   "metadata": {},
   "source": [
    "Now we can use this technology to create a class that saves the information and another one that loads it."
   ]
  },
  {
   "cell_type": "code",
   "execution_count": 152,
   "metadata": {},
   "outputs": [],
   "source": [
    "class SaverDB:\n",
    "    def __init__(self,DBName_,CollectionName_, host_ ='localhost', port_ = 27017):\n",
    "        from pymongo import MongoClient\n",
    "        self.__client = MongoClient(host_, port_)\n",
    "        self.__db = self.__client[DBName_]\n",
    "        self.__Collection = self.__db.CollectionName_\n",
    "       \n",
    "    def save(self, theOption_):\n",
    "        result = self.__Collection.insert_one(theOption_.GetDict())\n",
    "        print('One Option: {0}'.format(result.inserted_id))     "
   ]
  },
  {
   "cell_type": "code",
   "execution_count": 153,
   "metadata": {},
   "outputs": [
    {
     "name": "stdout",
     "output_type": "stream",
     "text": [
      "One Option: 5ce44202f704639cb20a84a1\n"
     ]
    }
   ],
   "source": [
    "saver = SaverDB('MyDB',Options)\n",
    "saver.save(TheOption)"
   ]
  },
  {
   "cell_type": "markdown",
   "metadata": {},
   "source": [
    "With this class we are able to save, doing one that loads it is just as straight forward.\n",
    "\n",
    "With this last step we cover how to save options information."
   ]
  }
 ],
 "metadata": {
  "kernelspec": {
   "display_name": "Python 3",
   "language": "python",
   "name": "python3"
  },
  "language_info": {
   "codemirror_mode": {
    "name": "ipython",
    "version": 3
   },
   "file_extension": ".py",
   "mimetype": "text/x-python",
   "name": "python",
   "nbconvert_exporter": "python",
   "pygments_lexer": "ipython3",
   "version": "3.7.1"
  }
 },
 "nbformat": 4,
 "nbformat_minor": 2
}
