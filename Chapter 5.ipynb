{
 "cells": [
  {
   "cell_type": "markdown",
   "metadata": {},
   "source": [
    "# Chapter 5"
   ]
  },
  {
   "cell_type": "markdown",
   "metadata": {},
   "source": [
    "In this chapter we will implement a statistics gatherer to have some statistics of our simulation, using the strategy pattern."
   ]
  },
  {
   "cell_type": "markdown",
   "metadata": {},
   "source": [
    "### Statistics Gatherer"
   ]
  },
  {
   "cell_type": "code",
   "execution_count": 1,
   "metadata": {},
   "outputs": [],
   "source": [
    "import numpy as np\n",
    "from copy import deepcopy"
   ]
  },
  {
   "cell_type": "code",
   "execution_count": 219,
   "metadata": {},
   "outputs": [],
   "source": [
    "class StatisticsMC:\n",
    "    def __init__(self):\n",
    "        pass\n",
    "    \n",
    "    def GetResultsSoFar(self):\n",
    "        pass\n",
    "    \n",
    "    def DumpOneResult(self,result):\n",
    "        pass        \n",
    "  \n",
    "    def clone(self):\n",
    "        pass\n",
    "    \n",
    "    def __del__(self):\n",
    "        pass   "
   ]
  },
  {
   "cell_type": "code",
   "execution_count": 537,
   "metadata": {},
   "outputs": [],
   "source": [
    "class StatisticsMean(StatisticsMC):\n",
    "    def __init__(self):\n",
    "        self.__RunningSum = 0\n",
    "        self.__PathsDone = 0\n",
    "        \n",
    "    def GetResultsSoFar(self): \n",
    "        Results = [[0]]\n",
    "        Results[0][0] = self.__RunningSum / self.__PathsDone\n",
    "        return Results\n",
    "    \n",
    "    def DumpOneResult(self,result):\n",
    "        self.__PathsDone += 1\n",
    "        self.__RunningSum += result        \n",
    "        \n",
    "    def clone(self):\n",
    "        return deepcopy(self)\n",
    "    \n",
    "    def __del__(self):\n",
    "        del self"
   ]
  },
  {
   "cell_type": "code",
   "execution_count": 472,
   "metadata": {},
   "outputs": [
    {
     "data": {
      "text/plain": [
       "[[4.0]]"
      ]
     },
     "execution_count": 472,
     "metadata": {},
     "output_type": "execute_result"
    }
   ],
   "source": [
    "mean = StatisticsMean()\n",
    "mean.DumpOneResult(2)\n",
    "mean.DumpOneResult(6)\n",
    "mean.GetResultsSoFar()"
   ]
  },
  {
   "cell_type": "markdown",
   "metadata": {},
   "source": [
    "Now we will put everything together."
   ]
  },
  {
   "cell_type": "code",
   "execution_count": 140,
   "metadata": {},
   "outputs": [],
   "source": [
    "from random import random\n",
    "from math import exp, sqrt, log"
   ]
  },
  {
   "cell_type": "code",
   "execution_count": 141,
   "metadata": {},
   "outputs": [],
   "source": [
    "class PayOff():\n",
    "    def __init__(self):\n",
    "        pass\n",
    "    \n",
    "    def __call__(self,Spot):\n",
    "        pass    \n",
    "\n",
    "class PayOffBridge():        \n",
    "    def __del__(self):\n",
    "        del self\n",
    "        \n",
    "    def copy(self,InnerPayOff):\n",
    "        from copy import deepcopy\n",
    "        self = deepcopy(InnerPayOff)\n",
    "        \n",
    "class PayOffCall(PayOff,PayOffBridge):\n",
    "    def __init__(self,Strike_):\n",
    "        self.__Strike = Strike_\n",
    "        \n",
    "    def __call__(self,Spot):\n",
    "        return max(Spot - self.__Strike,0)\n",
    "    \n",
    "class VanillaOption:\n",
    "    def __init__(self, ThePayOff_, Expiry_):\n",
    "        self.__ThePayOff = ThePayOff_\n",
    "        self.__Expiry = Expiry_\n",
    "        \n",
    "    def GetExpiry(self):\n",
    "        return self.__Expiry\n",
    "    \n",
    "    def OptionPayOff(self, Spot):\n",
    "        return self.__ThePayOff(Spot)"
   ]
  },
  {
   "cell_type": "code",
   "execution_count": 142,
   "metadata": {},
   "outputs": [],
   "source": [
    "class ParametersInner:\n",
    "    def __init__(self):\n",
    "        pass\n",
    "    \n",
    "    def Integral(self,time1, time2):\n",
    "        pass\n",
    "    \n",
    "    def IntegralSquare(self,time1,time2):\n",
    "        pass\n",
    "\n",
    "class Parameters:    \n",
    "    def RootMeanSquare(self,time1,time2):\n",
    "        total = self.Integral(time1,time2)\n",
    "        return total/(time2-time1)\n",
    "    \n",
    "    def Mean(self,time1, time2):\n",
    "        total = self.Integral(time1,time2)\n",
    "        return total/(time2-time1)\n",
    "    \n",
    "    def copy(self,original):\n",
    "        from copy import deepcopy\n",
    "        self = deepcopy(InnerPayOff) \n",
    "        \n",
    "    def __del__(self):\n",
    "        del self    \n",
    "        \n",
    "class ParametersConstant(ParametersInner,Parameters):\n",
    "    def __init__(self,constant):\n",
    "        self.__Constant = constant\n",
    "        self.__ConstantSquare = self.__Constant*self.__Constant\n",
    "    \n",
    "    def Integral(self, time1, time2):\n",
    "        return (time2 - time1)*self.__Constant\n",
    "    \n",
    "    def IntegralSquare(self, time1, time2):\n",
    "        return (time2 - time1)*self.__ConstantSquare   \n"
   ]
  },
  {
   "cell_type": "code",
   "execution_count": 143,
   "metadata": {},
   "outputs": [],
   "source": [
    "def SimpleMonteCarlo5(TheOption,\n",
    "                     Spot,\n",
    "                     Vol,\n",
    "                     r,\n",
    "                     NumberOfPaths,\n",
    "                     gatherer):\n",
    "    \n",
    "    Expiry = TheOption.GetExpiry()    \n",
    "    variance = Vol.IntegralSquare(0,Expiry)\n",
    "    rootVariance = sqrt(variance)\n",
    "    itoCorrection = -0.5*variance\n",
    "    \n",
    "    movedSpot = Spot*exp(r.Integral(0,Expiry) + itoCorrection)\n",
    "    discounting = exp(-r.Integral(0,Expiry))\n",
    "    for i in range(NumberOfPaths):\n",
    "        thisGaussian = GetOneGaussianByBoxMuller()\n",
    "        thisSpot = movedSpot*exp(rootVariance*thisGaussian)\n",
    "        thisPayoff = TheOption.OptionPayOff(thisSpot)\n",
    "        gatherer.DumpOneResult(thisPayoff*discounting)\n",
    "    \n",
    "      "
   ]
  },
  {
   "cell_type": "code",
   "execution_count": 144,
   "metadata": {},
   "outputs": [],
   "source": [
    "def GetOneGaussianBySummation():\n",
    "    result = 0\n",
    "    for j in range(12):\n",
    "        result += random()\n",
    "    result -= 6\n",
    "    return result\n",
    "\n",
    "def GetOneGaussianByBoxMuller():\n",
    "    sizeSquared = 1\n",
    "    while sizeSquared >= 1:\n",
    "        x = 2*random() - 1\n",
    "        y = 2*random() - 1\n",
    "        sizeSquared = x*x + y*y\n",
    "    \n",
    "    result = x*sqrt(-2*log(sizeSquared)/sizeSquared)\n",
    "    return result"
   ]
  },
  {
   "cell_type": "code",
   "execution_count": 434,
   "metadata": {},
   "outputs": [
    {
     "name": "stdout",
     "output_type": "stream",
     "text": [
      "Call price for 10000 paths: \n",
      "4.718866369765591\n"
     ]
    }
   ],
   "source": [
    "gatherer = StatisticsMean()\n",
    "callPayOff = PayOffCall(40)\n",
    "TheOption = VanillaOption(callPayOff,0.5)\n",
    "r = ParametersConstant(0.1)\n",
    "Vol = ParametersConstant(0.2)\n",
    "SimpleMonteCarlo5(TheOption,42,Vol,r,10000, gatherer)\n",
    "results = gatherer.GetResultsSoFar()\n",
    "print(f'Call price for 10000 paths: ')\n",
    "for i in range(len(results)):\n",
    "    for j in range(len(results[i])):\n",
    "        print(results[i][j])"
   ]
  },
  {
   "cell_type": "markdown",
   "metadata": {},
   "source": [
    "### Wrapper class"
   ]
  },
  {
   "cell_type": "markdown",
   "metadata": {},
   "source": [
    "Since there are no pointers in Python (at least in the STD library) this section will not be covered. If we want to add memory handling we can just create an auxiliary class and make all the classes to do multiple inheretance between the parent class and this class. "
   ]
  },
  {
   "cell_type": "code",
   "execution_count": 208,
   "metadata": {},
   "outputs": [],
   "source": [
    "class Wrapper:\n",
    "    def __init__(self,inner):\n",
    "        self = inner\n",
    "    \n",
    "    def __del__(self):\n",
    "        del self\n",
    "        \n",
    "    # The rest of the methods are related to handling pointers"
   ]
  },
  {
   "cell_type": "markdown",
   "metadata": {},
   "source": [
    "### A convergence table"
   ]
  },
  {
   "cell_type": "markdown",
   "metadata": {},
   "source": [
    "In order to get a better feeling of how the simulation is goint we might want to have extra statistics for every X or exponential, steps of the simulation, giving us the mean, standard error ... To do so we will store this information in a convergence table. \n",
    "\n",
    "We will use this as a gatherer for different statistics gatherers, having the same structure and inhereting from the same base class."
   ]
  },
  {
   "cell_type": "code",
   "execution_count": 438,
   "metadata": {},
   "outputs": [],
   "source": [
    "class StatisticsMean(StatisticsMC):\n",
    "    def __init__(self):\n",
    "        self.__RunningSum = 0\n",
    "        self.__PathsDone = 0\n",
    "        \n",
    "    def GetResultsSoFar(self): \n",
    "        Results = [[0]]\n",
    "        Results[0][0] = self.__RunningSum / self.__PathsDone\n",
    "        return Results\n",
    "    \n",
    "    def DumpOneResult(self,result):\n",
    "        self.__PathsDone += 1\n",
    "        self.__RunningSum += result        \n",
    "        \n",
    "    def clone(self):\n",
    "        return deepcopy(self)\n",
    "    \n",
    "    def __del__(self):\n",
    "        del self"
   ]
  },
  {
   "cell_type": "code",
   "execution_count": 441,
   "metadata": {},
   "outputs": [],
   "source": [
    "class ConvergenceTable(StatisticsMC):\n",
    "    def __init__(self, Inner_):\n",
    "        self.__Inner = Inner_\n",
    "        self.__ResultsSoFar = []\n",
    "        self.__StoppingPoint = 2\n",
    "        self.__PathsDone = 0\n",
    "    \n",
    "    def clone(self):\n",
    "        return deepcopy(self)\n",
    "    \n",
    "    def DumpOneResult(self,result):\n",
    "        self.__Inner.DumpOneResult(result)\n",
    "        self.__PathsDone += 1\n",
    "        \n",
    "        \n",
    "        if self.__PathsDone == self.__StoppingPoint:\n",
    "            self.__StoppingPoint *=2\n",
    "            thisResult = self.__Inner.GetResultsSoFar()            \n",
    "            \n",
    "            for i in range(len(thisResult)):\n",
    "                thisResult[i].append(self.__PathsDone)\n",
    "                self.__ResultsSoFar.append(thisResult[i]) \n",
    "\n",
    "            \n",
    "    \n",
    "    def GetResultsSoFar(self):\n",
    "        \n",
    "        tmp = self.__ResultsSoFar \n",
    "        \n",
    "        if self.__PathsDone*2 != self.__StoppingPoint:\n",
    "            thisResult = self.__Inner.GetResultsSoFar()\n",
    "            \n",
    "            for i in range(len(thisResult)):\n",
    "                thisResult[i].append(self.__PathsDone)\n",
    "                tmp.append(thisResult[i]) \n",
    "                \n",
    "        return tmp\n",
    "                "
   ]
  },
  {
   "cell_type": "code",
   "execution_count": 442,
   "metadata": {},
   "outputs": [
    {
     "name": "stdout",
     "output_type": "stream",
     "text": [
      "Call price for 10000 paths: \n",
      "2.56339162090301\n",
      "2\n",
      "3.348915973986924\n",
      "4\n",
      "4.52618795560467\n",
      "8\n",
      "4.034905977762788\n",
      "16\n",
      "5.736413426394033\n",
      "32\n",
      "4.792770135897354\n",
      "64\n",
      "4.83499010267414\n",
      "128\n",
      "4.58415639172651\n",
      "256\n",
      "4.746278678990468\n",
      "512\n",
      "4.713812134924003\n",
      "1024\n",
      "4.7016937600940025\n",
      "2048\n",
      "4.741836429346995\n",
      "4096\n",
      "4.756945908631261\n",
      "8192\n",
      "4.741576473389367\n",
      "10000\n"
     ]
    }
   ],
   "source": [
    "gatherer = StatisticsMean()\n",
    "gathererTwo = ConvergenceTable(gatherer)\n",
    "callPayOff = PayOffCall(40)\n",
    "TheOption = VanillaOption(callPayOff,0.5)\n",
    "r = ParametersConstant(0.1)\n",
    "Vol = ParametersConstant(0.2)\n",
    "SimpleMonteCarlo5(TheOption,42,Vol,r,10000, gathererTwo)\n",
    "results = gathererTwo.GetResultsSoFar()\n",
    "print(f'Call price for 10000 paths: ')\n",
    "for i in range(len(results)):\n",
    "    for j in range(len(results[i])):\n",
    "        print(results[i][j])"
   ]
  },
  {
   "cell_type": "markdown",
   "metadata": {},
   "source": [
    "### Exercises "
   ]
  },
  {
   "cell_type": "markdown",
   "metadata": {},
   "source": [
    "**Exercise 5.1** Write a statistics gathering class that computes the first four moments of a sample."
   ]
  },
  {
   "cell_type": "markdown",
   "metadata": {},
   "source": [
    "The first four moments of a sample are the mean, variance, skewness and kurtosis. The algorithms for the calculation of these moments come from: https://en.wikipedia.org/wiki/Algorithms%5Ffor%5Fcalculating%5Fvariance#Higher-order_statistics ."
   ]
  },
  {
   "cell_type": "code",
   "execution_count": 514,
   "metadata": {},
   "outputs": [],
   "source": [
    "class StatisticsFirstFourMoments(StatisticsMC):\n",
    "    def __init__(self):\n",
    "        self.__RunningSum = 0\n",
    "        self.__RunningSumSquared = 0\n",
    "        self.__PathsDone = 0\n",
    "        self.__M2 = 0\n",
    "        self.__M3 = 0\n",
    "        self.__M4 = 0        \n",
    "        \n",
    "        \n",
    "    def GetResultsSoFar(self): \n",
    "        Results = [[0,0,0,0]]\n",
    "        Results[0][0] = self.__RunningSum / self.__PathsDone # mean\n",
    "        Results[0][1] =(self.__RunningSumSquared - self.__RunningSum*self.__RunningSum/self.__PathsDone)/(self.__PathsDone-1)\n",
    "        Results[0][2] = sqrt(self.__PathsDone)*self.__M3 / (self.__M2*sqrt(self.__M2)) # skewness\n",
    "        Results[0][3] = (self.__PathsDone*self.__M4) / (self.__M2*self.__M2) - 3 # kurtosis\n",
    "        return Results\n",
    "    \n",
    "    def DumpOneResult(self,result):\n",
    "        self.__PathsDone += 1\n",
    "        self.__RunningSum += result\n",
    "        self.__RunningSumSquared += result*result\n",
    "        delta = result - self.__RunningSum/self.__PathsDone\n",
    "        delta_n = delta/self.__PathsDone\n",
    "        delta_n2 = delta_n*delta_n\n",
    "        term1 = delta*delta_n*(self.__PathsDone - 1)\n",
    "        self.__M4 = self.__M4 + term1*delta_n2*(self.__PathsDone*self.__PathsDone\n",
    "                                                - 3*self.__PathsDone + 3)+ 6*delta_n2*self.__M2 -4 *delta_n*self.__M3\n",
    "        self.__M3 = self.__M3 + term1 * delta_n * (self.__PathsDone - 2) - 3 * delta_n * self.__M2\n",
    "        self.__M2 = self.__M2 + term1\n",
    "        \n",
    "    def clone(self):\n",
    "        return deepcopy(self)\n",
    "    \n",
    "    def __del__(self):\n",
    "        del self        \n"
   ]
  },
  {
   "cell_type": "code",
   "execution_count": 465,
   "metadata": {},
   "outputs": [
    {
     "data": {
      "text/plain": [
       "[[4.0, 8.0, 0.0, -2.0]]"
      ]
     },
     "execution_count": 465,
     "metadata": {},
     "output_type": "execute_result"
    }
   ],
   "source": [
    "mean = StatisticsFirstFourMoments()\n",
    "mean.DumpOneResult(2)\n",
    "mean.DumpOneResult(6)\n",
    "mean.GetResultsSoFar()"
   ]
  },
  {
   "cell_type": "code",
   "execution_count": 470,
   "metadata": {},
   "outputs": [
    {
     "name": "stdout",
     "output_type": "stream",
     "text": [
      "Mean 2.895348495525091, variance 16.766085821078814, skewness 0.0, kurtosis -2.0\n",
      "Mean 1.624010071439435, variance 7.826681985666556, skewness 1.019268533811464, kurtosis -0.7507553411697021\n",
      "Mean 3.18346039269676, variance 21.467014108115166, skewness 1.3075803623807976, kurtosis 0.4352457824090772\n",
      "Mean 5.469781129620864, variance 27.51983539707484, skewness 1.0155430582432179, kurtosis 0.3644584448061674\n",
      "Mean 5.11034288181971, variance 22.815269749963605, skewness 0.6641497395614194, kurtosis -0.2843927870711669\n",
      "Mean 5.047458297867174, variance 23.843506210723277, skewness 0.8184565422269691, kurtosis 0.0487945818962352\n",
      "Mean 4.857056265668228, variance 21.512570015337516, skewness 0.8582147128256848, kurtosis 0.01846612058569974\n",
      "Mean 4.975335997695943, variance 26.304833753803873, skewness 1.249099806066973, kurtosis 1.6670410050515017\n",
      "Mean 5.032901486024189, variance 26.213039547128037, skewness 1.1760834388054744, kurtosis 1.2906718430126345\n",
      "Mean 5.064535646056608, variance 25.896867161936864, skewness 1.1266617738961633, kurtosis 1.0798638015727056\n",
      "Mean 4.932619875314805, variance 25.634359022394282, skewness 1.260275352113907, kurtosis 2.0769269089412044\n",
      "Mean 4.791118793996723, variance 25.273095268384644, skewness 1.2486684606373746, kurtosis 1.8361678879963899\n",
      "Mean 4.785235339395554, variance 24.98733610861121, skewness 1.213808490152117, kurtosis 1.7351796650550444\n",
      "Mean 4.721838180480864, variance 24.72780691115624, skewness 1.1830871360184438, kurtosis 1.424881653752065\n",
      "Mean 4.731910347647116, variance 24.69158819443209, skewness 1.1630162258923378, kurtosis 1.255393650106412\n",
      "Mean 4.742096614883183, variance 24.565709219136966, skewness 1.153137777284194, kurtosis 1.2391318807610014\n",
      "Mean 4.751804973379512, variance 24.666862809767057, skewness 1.1516191560982716, kurtosis 1.2169200716661788\n",
      "Mean 4.7501383572777005, variance 24.609049671776177, skewness 1.151398525930482, kurtosis 1.1977264197193254\n",
      "Mean 4.744199374374735, variance 24.589604905106164, skewness 1.1516386710282682, kurtosis 1.1875600501421104\n"
     ]
    }
   ],
   "source": [
    "gatherer = FirstFourMoments()\n",
    "gathererTwo = ConvergenceTable(gatherer)\n",
    "callPayOff = PayOffCall(40)\n",
    "TheOption = VanillaOption(callPayOff,0.5)\n",
    "r = ParametersConstant(0.1)\n",
    "Vol = ParametersConstant(0.2)\n",
    "SimpleMonteCarlo5(TheOption,42,Vol,r,400000, gathererTwo)\n",
    "results = gathererTwo.GetResultsSoFar()\n",
    "for i in range(len(results)):\n",
    "    print(f'Mean {results[i][0]}, variance {results[i][1]}, skewness {results[i][2]}, kurtosis {results[i][3]}')"
   ]
  },
  {
   "cell_type": "markdown",
   "metadata": {},
   "source": [
    "**Exercise 5.2** Write a statistics gathering class that computes the value at risk of a sample."
   ]
  },
  {
   "cell_type": "markdown",
   "metadata": {},
   "source": [
    "The value at risk or VAR give us information about how much the value of an asset can go down, given a certain interval. In  our case, per example, if we do 100 simulations and we suppose that we want a 95% interval, then the biggest of the 5 smallest values will be our VAR."
   ]
  },
  {
   "cell_type": "code",
   "execution_count": 508,
   "metadata": {},
   "outputs": [],
   "source": [
    "class StatisticsVAR(StatisticsMC):\n",
    "    def __init__(self, Interval_):\n",
    "        self.__PathsDone = 0\n",
    "        self.__Interval = Interval_\n",
    "        self.__WorstCase = []\n",
    "        self.__PreviousWorse = 1000000 # Arbitrary\n",
    "        \n",
    "    def GetResultsSoFar(self): \n",
    "        Results = [[0]]\n",
    "        Results[0][0] = max(self.__WorstCase)\n",
    "        return Results\n",
    "    \n",
    "    def DumpOneResult(self,result):\n",
    "        self.__PathsDone += 1\n",
    "        if len(self.__WorstCase) <= (1-self.__Interval)*self.__PathsDone:\n",
    "            self.__WorstCase.append(self.__PreviousWorse)\n",
    "        \n",
    "        elif max(self.__WorstCase) > result:\n",
    "            max_index = self.__WorstCase.index(max(self.__WorstCase))\n",
    "            self.__PreviousWorse = self.__WorstCase[max_index]\n",
    "            self.__WorstCase[max_index] = result         \n",
    "        \n",
    "    def clone(self):\n",
    "        return deepcopy(self)\n",
    "    \n",
    "    def __del__(self):\n",
    "        del self"
   ]
  },
  {
   "cell_type": "code",
   "execution_count": 506,
   "metadata": {},
   "outputs": [
    {
     "data": {
      "text/plain": [
       "[[2]]"
      ]
     },
     "execution_count": 506,
     "metadata": {},
     "output_type": "execute_result"
    }
   ],
   "source": [
    "mean = StatisticsVAR(0.9)\n",
    "mean.DumpOneResult(2)\n",
    "mean.DumpOneResult(6)\n",
    "mean.DumpOneResult(5)\n",
    "mean.DumpOneResult(6)\n",
    "mean.DumpOneResult(2)\n",
    "mean.DumpOneResult(6)\n",
    "mean.DumpOneResult(2)\n",
    "mean.DumpOneResult(6)\n",
    "mean.DumpOneResult(2)\n",
    "mean.DumpOneResult(9)\n",
    "mean.GetResultsSoFar()"
   ]
  },
  {
   "cell_type": "code",
   "execution_count": 511,
   "metadata": {},
   "outputs": [
    {
     "name": "stdout",
     "output_type": "stream",
     "text": [
      "VAR 11.327249290159324, iterations 2.\n",
      "VAR 1.8719801706928956, iterations 4.\n",
      "VAR 1.4153739660114557, iterations 8.\n",
      "VAR 1.8719801706928956, iterations 16.\n",
      "VAR 1.8719801706928956, iterations 32.\n",
      "VAR 1.2708108985059334, iterations 64.\n",
      "VAR 0.5814704547488765, iterations 128.\n",
      "VAR 0.037079032829145694, iterations 256.\n",
      "VAR 0.037079032829145694, iterations 512.\n",
      "VAR 0.037079032829145694, iterations 1024.\n",
      "VAR 0.004932968425698055, iterations 2048.\n",
      "VAR 0.004932968425698055, iterations 4096.\n",
      "VAR 0.004932968425698055, iterations 8192.\n",
      "VAR 0.0007735757217685299, iterations 16384.\n",
      "VAR 0.0007735757217685299, iterations 32768.\n",
      "VAR 0.0007735757217685299, iterations 50000.\n"
     ]
    }
   ],
   "source": [
    "gatherer = StatisticsVAR(0.8)\n",
    "gathererTwo = ConvergenceTable(gatherer)\n",
    "callPayOff = PayOffCall(40)\n",
    "TheOption = VanillaOption(callPayOff,0.5)\n",
    "r = ParametersConstant(0.1)\n",
    "Vol = ParametersConstant(0.2)\n",
    "SimpleMonteCarlo5(TheOption,42,Vol,r,50000, gathererTwo)\n",
    "results = gathererTwo.GetResultsSoFar()\n",
    "for i in range(len(results)):\n",
    "    print(f'VAR {results[i][0]}, iterations {results[i][1]}.')"
   ]
  },
  {
   "cell_type": "markdown",
   "metadata": {},
   "source": [
    "**Exercise 5.3** Write a statistics gathering class that allows the computation of several statistics via inputted classes."
   ]
  },
  {
   "cell_type": "code",
   "execution_count": 530,
   "metadata": {},
   "outputs": [],
   "source": [
    "class StatisticsMultiGatherer(StatisticsMC):\n",
    "    def __init__(self,Gatherers_):\n",
    "        self.__Gatherers = Gatherers_ #A list of Statistics Gatherers\n",
    "    \n",
    "    def GetResultsSoFar(self):\n",
    "        Results = []\n",
    "        for gatherer in self.__Gatherers:\n",
    "            Results.append(gatherer.GetResultsSoFar())\n",
    "        return Results\n",
    "            \n",
    "    def DumpOneResult(self,result):\n",
    "        for i in range(len(self.__Gatherers)):\n",
    "            self.__Gatherers[i].DumpOneResult(result)\n",
    "        \n",
    "    def clone(self):\n",
    "        return deepcopy(self)\n",
    "    \n",
    "    def __del__(self):\n",
    "        del self"
   ]
  },
  {
   "cell_type": "code",
   "execution_count": 531,
   "metadata": {},
   "outputs": [],
   "source": [
    "gathererVAR = StatisticsVAR(0.8)\n",
    "gathererFourMoments = StatisticsFirstFourMoments()\n",
    "multiGatherer = StatisticsMultiGatherer([gathererVAR,gathererFourMoments])\n",
    "callPayOff = PayOffCall(40)\n",
    "TheOption = VanillaOption(callPayOff,0.5)\n",
    "r = ParametersConstant(0.1)\n",
    "Vol = ParametersConstant(0.2)\n",
    "SimpleMonteCarlo5(TheOption,42,Vol,r,50000, multiGatherer)\n",
    "results = multiGatherer.GetResultsSoFar()"
   ]
  },
  {
   "cell_type": "code",
   "execution_count": 532,
   "metadata": {},
   "outputs": [
    {
     "name": "stdout",
     "output_type": "stream",
     "text": [
      "[[[0.0]], [[4.73815280114059, 24.544508384919705, 1.1395097914074361, 1.138201456958714]]]\n"
     ]
    }
   ],
   "source": [
    "print(results)"
   ]
  },
  {
   "cell_type": "markdown",
   "metadata": {},
   "source": [
    "**Exercise 5.4** Use the strategy pattern to allow the user specify the termination conditions for the Monte Carlo, e.g., time spent or paths done."
   ]
  },
  {
   "cell_type": "markdown",
   "metadata": {},
   "source": [
    "Here only the paths done condition will be implemented. First we start with the base class."
   ]
  },
  {
   "cell_type": "code",
   "execution_count": 533,
   "metadata": {},
   "outputs": [],
   "source": [
    "class TerminatorMC:\n",
    "    def __init__(self):\n",
    "        pass\n",
    " \n",
    "    def GetTerminatorCondition(self):\n",
    "        pass\n",
    "    \n",
    "    def clone(self):\n",
    "        pass\n",
    "    \n",
    "    def __del__(self):\n",
    "        pass   "
   ]
  },
  {
   "cell_type": "markdown",
   "metadata": {},
   "source": [
    "Now we create the inhereted class, for the number of paths."
   ]
  },
  {
   "cell_type": "code",
   "execution_count": 545,
   "metadata": {},
   "outputs": [],
   "source": [
    "class TerminatorPathsDone(TerminatorMC):\n",
    "    def __init__(self,NumberOfPaths_):\n",
    "        self.__NumberOfPaths = NumberOfPaths_\n",
    "        self.__PathsDone = 0\n",
    "    \n",
    "    def GetTerminatorCondition(self):\n",
    "        self.__PathsDone += 1\n",
    "        if self.__PathsDone >= self.__NumberOfPaths:\n",
    "            return True\n",
    "        else:\n",
    "            return False\n",
    "        \n",
    "    def clone(self):\n",
    "        return deepcopy(self)\n",
    "    \n",
    "    def __del__(self):\n",
    "        del self"
   ]
  },
  {
   "cell_type": "markdown",
   "metadata": {},
   "source": [
    "Now we rechange the Monte-Carlo routine adding the if condition that breaks the infinite loop."
   ]
  },
  {
   "cell_type": "code",
   "execution_count": 546,
   "metadata": {},
   "outputs": [],
   "source": [
    "def SimpleMonteCarlo6(TheOption,\n",
    "                     Spot,\n",
    "                     Vol,\n",
    "                     r,\n",
    "                     gatherer,\n",
    "                     terminator):\n",
    "    \n",
    "    Expiry = TheOption.GetExpiry()    \n",
    "    variance = Vol.IntegralSquare(0,Expiry)\n",
    "    rootVariance = sqrt(variance)\n",
    "    itoCorrection = -0.5*variance\n",
    "    \n",
    "    movedSpot = Spot*exp(r.Integral(0,Expiry) + itoCorrection)\n",
    "    discounting = exp(-r.Integral(0,Expiry))\n",
    "    \n",
    "    while  True:\n",
    "        thisGaussian = GetOneGaussianByBoxMuller()\n",
    "        thisSpot = movedSpot*exp(rootVariance*thisGaussian)\n",
    "        thisPayoff = TheOption.OptionPayOff(thisSpot)\n",
    "        gatherer.DumpOneResult(thisPayoff*discounting)\n",
    "        if terminator.GetTerminatorCondition() == True:\n",
    "            break\n",
    "        else: \n",
    "            pass"
   ]
  },
  {
   "cell_type": "code",
   "execution_count": 553,
   "metadata": {},
   "outputs": [
    {
     "name": "stdout",
     "output_type": "stream",
     "text": [
      "[4.750736705823391]\n"
     ]
    }
   ],
   "source": [
    "gatherer = StatisticsMean()\n",
    "callPayOff = PayOffCall(40)\n",
    "TheOption = VanillaOption(callPayOff,0.5)\n",
    "r = ParametersConstant(0.1)\n",
    "Vol = ParametersConstant(0.2)\n",
    "terminator = TerminatorPathsDone(10000)\n",
    "SimpleMonteCarlo6(TheOption,42,Vol,r, gatherer, terminator)\n",
    "results = gatherer.GetResultsSoFar()\n",
    "print(results[0])"
   ]
  },
  {
   "cell_type": "markdown",
   "metadata": {},
   "source": [
    "**Exercise 5.5** Write a terminator class that causes termination when either of two terminator classes specify termination."
   ]
  },
  {
   "cell_type": "markdown",
   "metadata": {},
   "source": [
    "Since we need to classes for that we will create the runtime terminator class."
   ]
  },
  {
   "cell_type": "code",
   "execution_count": 554,
   "metadata": {},
   "outputs": [],
   "source": [
    "import time"
   ]
  },
  {
   "cell_type": "code",
   "execution_count": 557,
   "metadata": {},
   "outputs": [],
   "source": [
    "class TerminatorRunTime(TerminatorMC):\n",
    "    def __init__(self,MaxTime_):\n",
    "        self.__MaxTime = MaxTime_\n",
    "        self.__TotalTime = 0\n",
    "        self.__InitTime = -1\n",
    "    \n",
    "    def GetTerminatorCondition(self):\n",
    "        if self.__InitTime == -1:\n",
    "            self.__InitTime = int(round(time.time() * 1000))\n",
    "            return False\n",
    "        else:\n",
    "            self.__TotalTime += int(round(time.time() * 1000)) - self.__InitTime\n",
    "            \n",
    "            if self.__TotalTime >= self.__MaxTime:\n",
    "                return True\n",
    "        \n",
    "            else:\n",
    "                self.__InitTime = int(round(time.time() * 1000))\n",
    "                return False\n",
    "        \n",
    "    def clone(self):\n",
    "        return deepcopy(self)\n",
    "    \n",
    "    def __del__(self):\n",
    "        del self"
   ]
  },
  {
   "cell_type": "code",
   "execution_count": 578,
   "metadata": {},
   "outputs": [],
   "source": [
    "class TerminatorMulti(TerminatorMC):\n",
    "    def __init__(self,Terminators_):\n",
    "        self.__Terminators = Terminators_\n",
    "        \n",
    "    def GetTerminatorCondition(self):\n",
    "        for i in range(len(self.__Terminators)):\n",
    "            if self.__Terminators[i].GetTerminatorCondition():\n",
    "                return True\n",
    "            else:\n",
    "                return False\n",
    "        \n",
    "    def clone(self):\n",
    "        return deepcopy(self)\n",
    "    \n",
    "    def __del__(self):\n",
    "        del self"
   ]
  },
  {
   "cell_type": "code",
   "execution_count": 579,
   "metadata": {},
   "outputs": [
    {
     "name": "stdout",
     "output_type": "stream",
     "text": [
      "[4.748533399890854]\n"
     ]
    }
   ],
   "source": [
    "gatherer = StatisticsMean()\n",
    "callPayOff = PayOffCall(40)\n",
    "TheOption = VanillaOption(callPayOff,0.5)\n",
    "r = ParametersConstant(0.1)\n",
    "Vol = ParametersConstant(0.2)\n",
    "terminatorPaths = TerminatorPathsDone(10000)\n",
    "terminatorTime = TerminatorRunTime(3000)\n",
    "terminatorMulti = TerminatorMulti([terminatorPaths,terminatorTime])\n",
    "SimpleMonteCarlo6(TheOption,42,Vol,r, gatherer, terminatorMulti)\n",
    "results = gatherer.GetResultsSoFar()\n",
    "print(results[0])"
   ]
  }
 ],
 "metadata": {
  "kernelspec": {
   "display_name": "Python 3",
   "language": "python",
   "name": "python3"
  },
  "language_info": {
   "codemirror_mode": {
    "name": "ipython",
    "version": 3
   },
   "file_extension": ".py",
   "mimetype": "text/x-python",
   "name": "python",
   "nbconvert_exporter": "python",
   "pygments_lexer": "ipython3",
   "version": "3.7.1"
  }
 },
 "nbformat": 4,
 "nbformat_minor": 2
}
